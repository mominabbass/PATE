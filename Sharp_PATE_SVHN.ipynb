{
  "cells": [
    {
      "cell_type": "markdown",
      "metadata": {
        "id": "DH9pryo-oHJq"
      },
      "source": [
        "# Sharpness-Aware Private Aggregation of Teacher Ensembles (Sharp-PATE)"
      ]
    },
    {
      "cell_type": "markdown",
      "metadata": {
        "id": "hCGCEpAroHJs"
      },
      "source": [
        "## Step 1: Load the Data"
      ]
    },
    {
      "cell_type": "code",
      "execution_count": 1,
      "metadata": {
        "id": "GI75f5-4oHJs",
        "colab": {
          "base_uri": "https://localhost:8080/",
          "height": 84,
          "referenced_widgets": [
            "7d93c9753dad43708c2215661f9e3f49",
            "2dcdb739c7ce4424ba303765919eec99",
            "7134196ccc4f49bfab9eac975ecf3982",
            "3c46546dc6c24999bd9c5ee906f62279",
            "6e8d082d723346c6b2bb3d13ccefe0fd",
            "6e255231e30347c49fdda38028cbf673",
            "6308a1dadad7450b85e1570b65898ecc",
            "63bb0f1d19b04c6a9fd653b9907b17ed",
            "328dff00eda6427297bb8253b20b639d",
            "9333d78be2144eb489f9233072ecf5bf",
            "0ff313f67225476eb1d7084823aa5084"
          ]
        },
        "outputId": "a44083c6-6724-4642-bf99-7e102c1afc3e"
      },
      "outputs": [
        {
          "output_type": "stream",
          "name": "stdout",
          "text": [
            "Using downloaded and verified file: datasets/SVHN/train/train_32x32.mat\n",
            "Downloading http://ufldl.stanford.edu/housenumbers/test_32x32.mat to datasets/SVHN/test/test_32x32.mat\n"
          ]
        },
        {
          "output_type": "display_data",
          "data": {
            "text/plain": [
              "  0%|          | 0/64275384 [00:00<?, ?it/s]"
            ],
            "application/vnd.jupyter.widget-view+json": {
              "version_major": 2,
              "version_minor": 0,
              "model_id": "7d93c9753dad43708c2215661f9e3f49"
            }
          },
          "metadata": {}
        }
      ],
      "source": [
        "import torch\n",
        "from torchvision import datasets, transforms\n",
        "from torch.utils.data import Subset\n",
        "from sam import SAM\n",
        "\n",
        "# Transform the image to a tensor and normalize it\n",
        "transform = transforms.Compose([transforms.ToTensor(),\n",
        "                                transforms.Normalize((0.5,), (0.5,))])\n",
        "\n",
        "# Load the train and test data by using the transform\n",
        "train_data = datasets.SVHN('datasets/SVHN/train/', split='train', transform=transform, target_transform=None, download=True)\n",
        "test_data = datasets.SVHN('datasets/SVHN/test/', split='test', transform=transform, target_transform=None, download=True)"
      ]
    },
    {
      "cell_type": "code",
      "execution_count": 2,
      "metadata": {
        "id": "crrLASoMoHJt"
      },
      "outputs": [],
      "source": [
        "num_teachers = 25  # Define the num of teachers\n",
        "batch_size = 100 # Teacher batch size\n",
        "\n",
        "def get_data_loaders(train_data, num_teachers):\n",
        "    \"\"\" Function to create data loaders for the Teacher classifier \"\"\"\n",
        "    teacher_loaders = []\n",
        "    data_size = len(train_data) // num_teachers\n",
        "    \n",
        "    for i in range(data_size):\n",
        "        indices = list(range(i*data_size, (i+1)*data_size))\n",
        "        subset_data = Subset(train_data, indices)\n",
        "        loader = torch.utils.data.DataLoader(subset_data, batch_size=batch_size)\n",
        "        teacher_loaders.append(loader)\n",
        "        \n",
        "    return teacher_loaders\n",
        "\n",
        "teacher_loaders = get_data_loaders(train_data, num_teachers)"
      ]
    },
    {
      "cell_type": "code",
      "execution_count": 3,
      "metadata": {
        "id": "9_9-E0AQoHJu"
      },
      "outputs": [],
      "source": [
        "# Create the public dataset by using 90% of the Test data as train data and remaining\n",
        "# 10% as test data.\n",
        "student_train_data = Subset(test_data, list(range(10000)))\n",
        "student_test_data = Subset(test_data, list(range(10000, 26032)))\n",
        "\n",
        "student_train_loader = torch.utils.data.DataLoader(student_train_data, batch_size=batch_size)\n",
        "student_test_loader = torch.utils.data.DataLoader(student_test_data, batch_size=batch_size)"
      ]
    },
    {
      "cell_type": "markdown",
      "metadata": {
        "id": "4gLBmw7boHJu"
      },
      "source": [
        "## Step 2: Define the architecture to train the teacher models"
      ]
    },
    {
      "cell_type": "code",
      "execution_count": 4,
      "metadata": {
        "id": "_Q3FZF_qoHJu"
      },
      "outputs": [],
      "source": [
        "import torch.nn as nn\n",
        "import torch.nn.functional as F\n",
        "import torch.optim as optim\n",
        "\n",
        "class Classifier(nn.Module):\n",
        "    \"\"\" A Simple Feed Forward Neural Network. \n",
        "        A CNN can also be used for this problem \n",
        "    \"\"\"\n",
        "    def __init__(self):\n",
        "        super().__init__()\n",
        "        \n",
        "        self.conv1 = nn.Conv2d(3, 10, kernel_size=5)\n",
        "        self.conv2 = nn.Conv2d(10, 20, kernel_size=5)\n",
        "        self.conv2_drop = nn.Dropout2d()\n",
        "        self.fc1 = nn.Linear(500, 50)\n",
        "        self.fc2 = nn.Linear(50, 10)\n",
        "    \n",
        "    def forward(self, x):\n",
        "        x = F.relu(F.max_pool2d(self.conv1(x), 2))\n",
        "        x = F.relu(F.max_pool2d(self.conv2_drop(self.conv2(x)), 2))\n",
        "        x = x.view(-1, 500)\n",
        "        x = F.relu(self.fc1(x))\n",
        "        x = F.dropout(x, training=self.training)\n",
        "        x = self.fc2(x)\n",
        "        return F.log_softmax(x)\n"
      ]
    },
    {
      "cell_type": "markdown",
      "source": [
        "## Step 3: Define train and prediction functions"
      ],
      "metadata": {
        "id": "fxqbRX7ondQB"
      }
    },
    {
      "cell_type": "code",
      "execution_count": 5,
      "metadata": {
        "id": "16G4RiQDoHJv"
      },
      "outputs": [],
      "source": [
        "def train(model, trainloader, criterion, optimizer, epochs=10):\n",
        "    \"\"\" This function trains a single Classifier model \"\"\"\n",
        "    running_loss = 0\n",
        "    for e in range(epochs):\n",
        "        model.train()\n",
        "        \n",
        "        for images, labels in trainloader:\n",
        "            optimizer.zero_grad()\n",
        "            output = model.forward(images)\n",
        "            loss = criterion(output, labels)\n",
        "            loss.backward()\n",
        "            optimizer.first_step(zero_grad=True)\n",
        "            # optimizer.step()\n",
        "            criterion(model.forward(images), labels).backward()\n",
        "            optimizer.second_step(zero_grad=True)\n",
        "            \n",
        "            running_loss += loss.item()"
      ]
    },
    {
      "cell_type": "code",
      "execution_count": 6,
      "metadata": {
        "id": "8WzbuAt9oHJy"
      },
      "outputs": [],
      "source": [
        "def predict(model, dataloader):\n",
        "    \"\"\" This function predicts labels for a dataset \n",
        "        given the model and dataloader as inputs. \n",
        "    \"\"\"\n",
        "    outputs = torch.zeros(0, dtype=torch.long)\n",
        "    model.eval()\n",
        "    \n",
        "    for images, labels in dataloader:\n",
        "        output = model.forward(images)\n",
        "        ps = torch.argmax(torch.exp(output), dim=1)\n",
        "        outputs = torch.cat((outputs, ps))\n",
        "        \n",
        "    return outputs"
      ]
    },
    {
      "cell_type": "markdown",
      "metadata": {
        "id": "sSSvLJsSoHJ1"
      },
      "source": [
        "## Step 4: Create the Student model and train it using the labels generated in step 3."
      ]
    },
    {
      "cell_type": "code",
      "execution_count": 7,
      "metadata": {
        "colab": {
          "base_uri": "https://localhost:8080/"
        },
        "id": "MpU56JNcoHJ2",
        "outputId": "834425fb-9e07-4d0e-e31c-b040e1ffffb2"
      },
      "outputs": [
        {
          "output_type": "stream",
          "name": "stderr",
          "text": [
            "/usr/local/lib/python3.7/dist-packages/ipykernel_launcher.py:25: UserWarning: Implicit dimension choice for log_softmax has been deprecated. Change the call to include dim=X as an argument.\n"
          ]
        }
      ],
      "source": [
        "def train_models(num_teachers, rho_val):\n",
        "    \"\"\" Trains *num_teacher* models (num_teachers being the number of teacher classifiers) \"\"\"\n",
        "    models = []\n",
        "    for i in range(num_teachers):\n",
        "        model = Classifier()\n",
        "        criterion = nn.NLLLoss()\n",
        "        base_optimizer = optim.Adam\n",
        "        optimizer = SAM(model.parameters(), base_optimizer, rho=rho_val, adaptive=False, lr=0.003)\n",
        "        train(model, teacher_loaders[i], criterion, optimizer)\n",
        "        models.append(model)\n",
        "    return models\n",
        "\n",
        "##use rho=0.003 (found using grid search)\n",
        "models = train_models(num_teachers, 0.003)"
      ]
    },
    {
      "cell_type": "markdown",
      "source": [
        "## Step 4: Create the aggregated teacher ensemble to generate student labels"
      ],
      "metadata": {
        "id": "N5riYBF0nm2I"
      }
    },
    {
      "cell_type": "code",
      "source": [
        "import numpy as np\n",
        "\n",
        "epsilon = 0.2\n",
        "def aggregated_teacher(models, dataloader, epsilon):\n",
        "    \"\"\" Take predictions from individual teacher model and \n",
        "        creates the true labels for the student after adding \n",
        "        laplacian noise to them \n",
        "    \"\"\"\n",
        "    preds = torch.torch.zeros((len(models), 10000), dtype=torch.long)\n",
        "    for i, model in enumerate(models):\n",
        "        results = predict(model, dataloader)\n",
        "        preds[i] = results\n",
        "    \n",
        "    labels = np.array([]).astype(int)\n",
        "    for image_preds in np.transpose(preds):\n",
        "        label_counts = np.bincount(image_preds, minlength=10)\n",
        "        beta = 1 / epsilon\n",
        "\n",
        "        for i in range(len(label_counts)):\n",
        "            label_counts[i] += np.random.laplace(0, beta, 1)\n",
        "\n",
        "        new_label = np.argmax(label_counts)\n",
        "        labels = np.append(labels, new_label)\n",
        "    \n",
        "    return preds.numpy(), labels\n",
        "\n",
        "teacher_models = models\n",
        "preds, student_labels = aggregated_teacher(teacher_models, student_train_loader, epsilon)"
      ],
      "metadata": {
        "colab": {
          "base_uri": "https://localhost:8080/"
        },
        "id": "ZF2O1w3vnXYk",
        "outputId": "5acde563-996d-437c-ea65-900c46d2b88b"
      },
      "execution_count": 9,
      "outputs": [
        {
          "output_type": "stream",
          "name": "stderr",
          "text": [
            "/usr/local/lib/python3.7/dist-packages/ipykernel_launcher.py:25: UserWarning: Implicit dimension choice for log_softmax has been deprecated. Change the call to include dim=X as an argument.\n"
          ]
        }
      ]
    },
    {
      "cell_type": "markdown",
      "source": [
        "## Step 5: Train the student model using student labels obtained from the Step-4"
      ],
      "metadata": {
        "id": "ppemjsIPoKmk"
      }
    },
    {
      "cell_type": "code",
      "source": [
        "def student_loader(student_train_loader, labels):\n",
        "    for i, (data, _) in enumerate(iter(student_train_loader)):\n",
        "        yield data, torch.from_numpy(labels[i*len(data): (i+1)*len(data)])\n",
        "\n",
        "student_model = Classifier()\n",
        "criterion = nn.NLLLoss()\n",
        "base_optimizer = optim.Adam\n",
        "\n",
        "##use rho=0.002 (found using grid search)\n",
        "optimizer = SAM(student_model.parameters(), base_optimizer, 0.002, adaptive=False, lr=0.003)\n",
        "epochs = 50\n",
        "steps = 0\n",
        "running_loss = 0\n",
        "for e in range(epochs):\n",
        "    student_model.train()\n",
        "    train_loader = student_loader(student_train_loader, student_labels)\n",
        "\n",
        "    for images, labels in train_loader:\n",
        "        steps += 1\n",
        "        \n",
        "        optimizer.zero_grad()\n",
        "        output = student_model.forward(images)\n",
        "        loss = criterion(output, labels)\n",
        "        loss.backward()\n",
        "        optimizer.first_step(zero_grad=True)\n",
        "        # optimizer.step()\n",
        "        criterion(student_model.forward(images), labels).backward() \n",
        "        optimizer.second_step(zero_grad=True)\n",
        "\n",
        "        running_loss += loss.item()\n",
        "        \n",
        "        if steps % 50 == 0:\n",
        "            test_loss = 0\n",
        "            accuracy = 0\n",
        "            student_model.eval()\n",
        "            with torch.no_grad():\n",
        "                for images, labels in student_test_loader:\n",
        "                    log_ps = student_model(images)\n",
        "                    test_loss += criterion(log_ps, labels).item()\n",
        "                    \n",
        "                    # Accuracy\n",
        "                    ps = torch.exp(log_ps)\n",
        "                    top_p, top_class = ps.topk(1, dim=1)\n",
        "                    equals = top_class == labels.view(*top_class.shape)\n",
        "                    accuracy += torch.mean(equals.type(torch.FloatTensor))\n",
        "            student_model.train()\n",
        "            print(\"Epoch: {}/{}.. \".format(e+1, epochs),\n",
        "                  \"Training Loss: {:.3f}.. \".format(running_loss/len(student_train_loader)),\n",
        "                  \"Test Loss: {:.3f}.. \".format(test_loss/len(student_test_loader)),\n",
        "                  \"Test Accuracy: {:.3f}\".format(accuracy/len(student_test_loader)))\n",
        "            running_loss = 0"
      ],
      "metadata": {
        "colab": {
          "base_uri": "https://localhost:8080/"
        },
        "id": "dl08Jp1R0Bhs",
        "outputId": "12c78f8e-0816-4f05-e0ef-08a846db11ff"
      },
      "execution_count": 10,
      "outputs": [
        {
          "output_type": "stream",
          "name": "stderr",
          "text": [
            "/usr/local/lib/python3.7/dist-packages/ipykernel_launcher.py:25: UserWarning: Implicit dimension choice for log_softmax has been deprecated. Change the call to include dim=X as an argument.\n"
          ]
        },
        {
          "output_type": "stream",
          "name": "stdout",
          "text": [
            "Epoch: 1/50..  Training Loss: 1.113..  Test Loss: 2.212..  Test Accuracy: 0.201\n",
            "Epoch: 1/50..  Training Loss: 1.073..  Test Loss: 2.072..  Test Accuracy: 0.242\n",
            "Epoch: 2/50..  Training Loss: 1.001..  Test Loss: 1.814..  Test Accuracy: 0.435\n",
            "Epoch: 2/50..  Training Loss: 0.907..  Test Loss: 1.578..  Test Accuracy: 0.480\n",
            "Epoch: 3/50..  Training Loss: 0.836..  Test Loss: 1.409..  Test Accuracy: 0.582\n",
            "Epoch: 3/50..  Training Loss: 0.802..  Test Loss: 1.346..  Test Accuracy: 0.582\n",
            "Epoch: 4/50..  Training Loss: 0.769..  Test Loss: 1.270..  Test Accuracy: 0.631\n",
            "Epoch: 4/50..  Training Loss: 0.744..  Test Loss: 1.219..  Test Accuracy: 0.632\n",
            "Epoch: 5/50..  Training Loss: 0.730..  Test Loss: 1.171..  Test Accuracy: 0.661\n",
            "Epoch: 5/50..  Training Loss: 0.724..  Test Loss: 1.171..  Test Accuracy: 0.666\n",
            "Epoch: 6/50..  Training Loss: 0.715..  Test Loss: 1.116..  Test Accuracy: 0.673\n",
            "Epoch: 6/50..  Training Loss: 0.715..  Test Loss: 1.146..  Test Accuracy: 0.665\n",
            "Epoch: 7/50..  Training Loss: 0.698..  Test Loss: 1.104..  Test Accuracy: 0.685\n",
            "Epoch: 7/50..  Training Loss: 0.691..  Test Loss: 1.060..  Test Accuracy: 0.695\n",
            "Epoch: 8/50..  Training Loss: 0.678..  Test Loss: 1.037..  Test Accuracy: 0.695\n",
            "Epoch: 8/50..  Training Loss: 0.694..  Test Loss: 1.079..  Test Accuracy: 0.698\n",
            "Epoch: 9/50..  Training Loss: 0.665..  Test Loss: 1.024..  Test Accuracy: 0.706\n",
            "Epoch: 9/50..  Training Loss: 0.682..  Test Loss: 1.057..  Test Accuracy: 0.708\n",
            "Epoch: 10/50..  Training Loss: 0.670..  Test Loss: 1.039..  Test Accuracy: 0.701\n",
            "Epoch: 10/50..  Training Loss: 0.669..  Test Loss: 1.023..  Test Accuracy: 0.710\n",
            "Epoch: 11/50..  Training Loss: 0.663..  Test Loss: 1.012..  Test Accuracy: 0.708\n",
            "Epoch: 11/50..  Training Loss: 0.654..  Test Loss: 1.027..  Test Accuracy: 0.708\n",
            "Epoch: 12/50..  Training Loss: 0.640..  Test Loss: 0.981..  Test Accuracy: 0.717\n",
            "Epoch: 12/50..  Training Loss: 0.657..  Test Loss: 1.006..  Test Accuracy: 0.713\n",
            "Epoch: 13/50..  Training Loss: 0.646..  Test Loss: 0.953..  Test Accuracy: 0.722\n",
            "Epoch: 13/50..  Training Loss: 0.653..  Test Loss: 0.987..  Test Accuracy: 0.717\n",
            "Epoch: 14/50..  Training Loss: 0.636..  Test Loss: 0.953..  Test Accuracy: 0.724\n",
            "Epoch: 14/50..  Training Loss: 0.646..  Test Loss: 0.980..  Test Accuracy: 0.722\n",
            "Epoch: 15/50..  Training Loss: 0.643..  Test Loss: 0.975..  Test Accuracy: 0.711\n",
            "Epoch: 15/50..  Training Loss: 0.656..  Test Loss: 0.968..  Test Accuracy: 0.718\n",
            "Epoch: 16/50..  Training Loss: 0.631..  Test Loss: 0.938..  Test Accuracy: 0.726\n",
            "Epoch: 16/50..  Training Loss: 0.643..  Test Loss: 0.973..  Test Accuracy: 0.714\n",
            "Epoch: 17/50..  Training Loss: 0.625..  Test Loss: 0.970..  Test Accuracy: 0.713\n",
            "Epoch: 17/50..  Training Loss: 0.640..  Test Loss: 0.980..  Test Accuracy: 0.720\n",
            "Epoch: 18/50..  Training Loss: 0.631..  Test Loss: 0.967..  Test Accuracy: 0.720\n",
            "Epoch: 18/50..  Training Loss: 0.631..  Test Loss: 0.975..  Test Accuracy: 0.716\n",
            "Epoch: 19/50..  Training Loss: 0.624..  Test Loss: 0.938..  Test Accuracy: 0.723\n",
            "Epoch: 19/50..  Training Loss: 0.633..  Test Loss: 0.968..  Test Accuracy: 0.722\n",
            "Epoch: 20/50..  Training Loss: 0.618..  Test Loss: 0.905..  Test Accuracy: 0.729\n",
            "Epoch: 20/50..  Training Loss: 0.631..  Test Loss: 1.009..  Test Accuracy: 0.705\n",
            "Epoch: 21/50..  Training Loss: 0.618..  Test Loss: 0.954..  Test Accuracy: 0.718\n",
            "Epoch: 21/50..  Training Loss: 0.627..  Test Loss: 0.950..  Test Accuracy: 0.727\n",
            "Epoch: 22/50..  Training Loss: 0.617..  Test Loss: 0.941..  Test Accuracy: 0.717\n",
            "Epoch: 22/50..  Training Loss: 0.621..  Test Loss: 1.000..  Test Accuracy: 0.713\n",
            "Epoch: 23/50..  Training Loss: 0.614..  Test Loss: 0.913..  Test Accuracy: 0.732\n",
            "Epoch: 23/50..  Training Loss: 0.631..  Test Loss: 0.923..  Test Accuracy: 0.727\n",
            "Epoch: 24/50..  Training Loss: 0.600..  Test Loss: 0.939..  Test Accuracy: 0.723\n",
            "Epoch: 24/50..  Training Loss: 0.637..  Test Loss: 0.966..  Test Accuracy: 0.722\n",
            "Epoch: 25/50..  Training Loss: 0.613..  Test Loss: 0.935..  Test Accuracy: 0.719\n",
            "Epoch: 25/50..  Training Loss: 0.625..  Test Loss: 0.967..  Test Accuracy: 0.723\n",
            "Epoch: 26/50..  Training Loss: 0.610..  Test Loss: 0.918..  Test Accuracy: 0.729\n",
            "Epoch: 26/50..  Training Loss: 0.615..  Test Loss: 0.980..  Test Accuracy: 0.717\n",
            "Epoch: 27/50..  Training Loss: 0.615..  Test Loss: 0.922..  Test Accuracy: 0.735\n",
            "Epoch: 27/50..  Training Loss: 0.609..  Test Loss: 0.978..  Test Accuracy: 0.715\n",
            "Epoch: 28/50..  Training Loss: 0.614..  Test Loss: 0.941..  Test Accuracy: 0.723\n",
            "Epoch: 28/50..  Training Loss: 0.618..  Test Loss: 0.975..  Test Accuracy: 0.723\n",
            "Epoch: 29/50..  Training Loss: 0.610..  Test Loss: 0.921..  Test Accuracy: 0.732\n",
            "Epoch: 29/50..  Training Loss: 0.606..  Test Loss: 0.954..  Test Accuracy: 0.726\n",
            "Epoch: 30/50..  Training Loss: 0.603..  Test Loss: 0.916..  Test Accuracy: 0.730\n",
            "Epoch: 30/50..  Training Loss: 0.609..  Test Loss: 0.964..  Test Accuracy: 0.722\n",
            "Epoch: 31/50..  Training Loss: 0.600..  Test Loss: 0.925..  Test Accuracy: 0.728\n",
            "Epoch: 31/50..  Training Loss: 0.614..  Test Loss: 0.947..  Test Accuracy: 0.724\n",
            "Epoch: 32/50..  Training Loss: 0.581..  Test Loss: 0.908..  Test Accuracy: 0.732\n",
            "Epoch: 32/50..  Training Loss: 0.608..  Test Loss: 0.955..  Test Accuracy: 0.722\n",
            "Epoch: 33/50..  Training Loss: 0.600..  Test Loss: 0.939..  Test Accuracy: 0.725\n",
            "Epoch: 33/50..  Training Loss: 0.603..  Test Loss: 0.956..  Test Accuracy: 0.716\n",
            "Epoch: 34/50..  Training Loss: 0.607..  Test Loss: 0.948..  Test Accuracy: 0.715\n",
            "Epoch: 34/50..  Training Loss: 0.606..  Test Loss: 0.960..  Test Accuracy: 0.718\n",
            "Epoch: 35/50..  Training Loss: 0.594..  Test Loss: 0.922..  Test Accuracy: 0.726\n",
            "Epoch: 35/50..  Training Loss: 0.599..  Test Loss: 0.992..  Test Accuracy: 0.711\n",
            "Epoch: 36/50..  Training Loss: 0.595..  Test Loss: 0.919..  Test Accuracy: 0.727\n",
            "Epoch: 36/50..  Training Loss: 0.609..  Test Loss: 0.936..  Test Accuracy: 0.729\n",
            "Epoch: 37/50..  Training Loss: 0.582..  Test Loss: 0.904..  Test Accuracy: 0.731\n",
            "Epoch: 37/50..  Training Loss: 0.597..  Test Loss: 0.967..  Test Accuracy: 0.722\n",
            "Epoch: 38/50..  Training Loss: 0.582..  Test Loss: 0.930..  Test Accuracy: 0.727\n",
            "Epoch: 38/50..  Training Loss: 0.600..  Test Loss: 0.945..  Test Accuracy: 0.720\n",
            "Epoch: 39/50..  Training Loss: 0.594..  Test Loss: 0.914..  Test Accuracy: 0.729\n",
            "Epoch: 39/50..  Training Loss: 0.597..  Test Loss: 0.934..  Test Accuracy: 0.729\n",
            "Epoch: 40/50..  Training Loss: 0.590..  Test Loss: 0.917..  Test Accuracy: 0.728\n",
            "Epoch: 40/50..  Training Loss: 0.597..  Test Loss: 0.951..  Test Accuracy: 0.722\n",
            "Epoch: 41/50..  Training Loss: 0.584..  Test Loss: 0.911..  Test Accuracy: 0.726\n",
            "Epoch: 41/50..  Training Loss: 0.588..  Test Loss: 0.944..  Test Accuracy: 0.722\n",
            "Epoch: 42/50..  Training Loss: 0.594..  Test Loss: 0.926..  Test Accuracy: 0.724\n",
            "Epoch: 42/50..  Training Loss: 0.588..  Test Loss: 0.933..  Test Accuracy: 0.728\n",
            "Epoch: 43/50..  Training Loss: 0.587..  Test Loss: 0.924..  Test Accuracy: 0.728\n",
            "Epoch: 43/50..  Training Loss: 0.589..  Test Loss: 0.942..  Test Accuracy: 0.729\n",
            "Epoch: 44/50..  Training Loss: 0.581..  Test Loss: 0.939..  Test Accuracy: 0.722\n",
            "Epoch: 44/50..  Training Loss: 0.595..  Test Loss: 0.948..  Test Accuracy: 0.722\n",
            "Epoch: 45/50..  Training Loss: 0.576..  Test Loss: 0.909..  Test Accuracy: 0.734\n",
            "Epoch: 45/50..  Training Loss: 0.583..  Test Loss: 0.944..  Test Accuracy: 0.729\n",
            "Epoch: 46/50..  Training Loss: 0.577..  Test Loss: 0.915..  Test Accuracy: 0.730\n",
            "Epoch: 46/50..  Training Loss: 0.594..  Test Loss: 0.938..  Test Accuracy: 0.728\n",
            "Epoch: 47/50..  Training Loss: 0.585..  Test Loss: 0.932..  Test Accuracy: 0.722\n",
            "Epoch: 47/50..  Training Loss: 0.591..  Test Loss: 0.953..  Test Accuracy: 0.726\n",
            "Epoch: 48/50..  Training Loss: 0.591..  Test Loss: 0.947..  Test Accuracy: 0.717\n",
            "Epoch: 48/50..  Training Loss: 0.589..  Test Loss: 0.944..  Test Accuracy: 0.724\n",
            "Epoch: 49/50..  Training Loss: 0.579..  Test Loss: 0.937..  Test Accuracy: 0.726\n",
            "Epoch: 49/50..  Training Loss: 0.595..  Test Loss: 0.959..  Test Accuracy: 0.719\n",
            "Epoch: 50/50..  Training Loss: 0.566..  Test Loss: 0.943..  Test Accuracy: 0.721\n",
            "Epoch: 50/50..  Training Loss: 0.596..  Test Loss: 0.951..  Test Accuracy: 0.720\n"
          ]
        }
      ]
    }
  ],
  "metadata": {
    "kernelspec": {
      "display_name": "Python 3",
      "language": "python",
      "name": "python3"
    },
    "language_info": {
      "codemirror_mode": {
        "name": "ipython",
        "version": 3
      },
      "file_extension": ".py",
      "mimetype": "text/x-python",
      "name": "python",
      "nbconvert_exporter": "python",
      "pygments_lexer": "ipython3",
      "version": "3.7.3"
    },
    "colab": {
      "name": "Sharp-PATE_SVHN.ipynb",
      "provenance": [],
      "collapsed_sections": []
    },
    "accelerator": "GPU",
    "widgets": {
      "application/vnd.jupyter.widget-state+json": {
        "7d93c9753dad43708c2215661f9e3f49": {
          "model_module": "@jupyter-widgets/controls",
          "model_name": "HBoxModel",
          "model_module_version": "1.5.0",
          "state": {
            "_dom_classes": [],
            "_model_module": "@jupyter-widgets/controls",
            "_model_module_version": "1.5.0",
            "_model_name": "HBoxModel",
            "_view_count": null,
            "_view_module": "@jupyter-widgets/controls",
            "_view_module_version": "1.5.0",
            "_view_name": "HBoxView",
            "box_style": "",
            "children": [
              "IPY_MODEL_2dcdb739c7ce4424ba303765919eec99",
              "IPY_MODEL_7134196ccc4f49bfab9eac975ecf3982",
              "IPY_MODEL_3c46546dc6c24999bd9c5ee906f62279"
            ],
            "layout": "IPY_MODEL_6e8d082d723346c6b2bb3d13ccefe0fd"
          }
        },
        "2dcdb739c7ce4424ba303765919eec99": {
          "model_module": "@jupyter-widgets/controls",
          "model_name": "HTMLModel",
          "model_module_version": "1.5.0",
          "state": {
            "_dom_classes": [],
            "_model_module": "@jupyter-widgets/controls",
            "_model_module_version": "1.5.0",
            "_model_name": "HTMLModel",
            "_view_count": null,
            "_view_module": "@jupyter-widgets/controls",
            "_view_module_version": "1.5.0",
            "_view_name": "HTMLView",
            "description": "",
            "description_tooltip": null,
            "layout": "IPY_MODEL_6e255231e30347c49fdda38028cbf673",
            "placeholder": "​",
            "style": "IPY_MODEL_6308a1dadad7450b85e1570b65898ecc",
            "value": ""
          }
        },
        "7134196ccc4f49bfab9eac975ecf3982": {
          "model_module": "@jupyter-widgets/controls",
          "model_name": "FloatProgressModel",
          "model_module_version": "1.5.0",
          "state": {
            "_dom_classes": [],
            "_model_module": "@jupyter-widgets/controls",
            "_model_module_version": "1.5.0",
            "_model_name": "FloatProgressModel",
            "_view_count": null,
            "_view_module": "@jupyter-widgets/controls",
            "_view_module_version": "1.5.0",
            "_view_name": "ProgressView",
            "bar_style": "success",
            "description": "",
            "description_tooltip": null,
            "layout": "IPY_MODEL_63bb0f1d19b04c6a9fd653b9907b17ed",
            "max": 64275384,
            "min": 0,
            "orientation": "horizontal",
            "style": "IPY_MODEL_328dff00eda6427297bb8253b20b639d",
            "value": 64275384
          }
        },
        "3c46546dc6c24999bd9c5ee906f62279": {
          "model_module": "@jupyter-widgets/controls",
          "model_name": "HTMLModel",
          "model_module_version": "1.5.0",
          "state": {
            "_dom_classes": [],
            "_model_module": "@jupyter-widgets/controls",
            "_model_module_version": "1.5.0",
            "_model_name": "HTMLModel",
            "_view_count": null,
            "_view_module": "@jupyter-widgets/controls",
            "_view_module_version": "1.5.0",
            "_view_name": "HTMLView",
            "description": "",
            "description_tooltip": null,
            "layout": "IPY_MODEL_9333d78be2144eb489f9233072ecf5bf",
            "placeholder": "​",
            "style": "IPY_MODEL_0ff313f67225476eb1d7084823aa5084",
            "value": " 64275456/? [00:05&lt;00:00, 38633089.02it/s]"
          }
        },
        "6e8d082d723346c6b2bb3d13ccefe0fd": {
          "model_module": "@jupyter-widgets/base",
          "model_name": "LayoutModel",
          "model_module_version": "1.2.0",
          "state": {
            "_model_module": "@jupyter-widgets/base",
            "_model_module_version": "1.2.0",
            "_model_name": "LayoutModel",
            "_view_count": null,
            "_view_module": "@jupyter-widgets/base",
            "_view_module_version": "1.2.0",
            "_view_name": "LayoutView",
            "align_content": null,
            "align_items": null,
            "align_self": null,
            "border": null,
            "bottom": null,
            "display": null,
            "flex": null,
            "flex_flow": null,
            "grid_area": null,
            "grid_auto_columns": null,
            "grid_auto_flow": null,
            "grid_auto_rows": null,
            "grid_column": null,
            "grid_gap": null,
            "grid_row": null,
            "grid_template_areas": null,
            "grid_template_columns": null,
            "grid_template_rows": null,
            "height": null,
            "justify_content": null,
            "justify_items": null,
            "left": null,
            "margin": null,
            "max_height": null,
            "max_width": null,
            "min_height": null,
            "min_width": null,
            "object_fit": null,
            "object_position": null,
            "order": null,
            "overflow": null,
            "overflow_x": null,
            "overflow_y": null,
            "padding": null,
            "right": null,
            "top": null,
            "visibility": null,
            "width": null
          }
        },
        "6e255231e30347c49fdda38028cbf673": {
          "model_module": "@jupyter-widgets/base",
          "model_name": "LayoutModel",
          "model_module_version": "1.2.0",
          "state": {
            "_model_module": "@jupyter-widgets/base",
            "_model_module_version": "1.2.0",
            "_model_name": "LayoutModel",
            "_view_count": null,
            "_view_module": "@jupyter-widgets/base",
            "_view_module_version": "1.2.0",
            "_view_name": "LayoutView",
            "align_content": null,
            "align_items": null,
            "align_self": null,
            "border": null,
            "bottom": null,
            "display": null,
            "flex": null,
            "flex_flow": null,
            "grid_area": null,
            "grid_auto_columns": null,
            "grid_auto_flow": null,
            "grid_auto_rows": null,
            "grid_column": null,
            "grid_gap": null,
            "grid_row": null,
            "grid_template_areas": null,
            "grid_template_columns": null,
            "grid_template_rows": null,
            "height": null,
            "justify_content": null,
            "justify_items": null,
            "left": null,
            "margin": null,
            "max_height": null,
            "max_width": null,
            "min_height": null,
            "min_width": null,
            "object_fit": null,
            "object_position": null,
            "order": null,
            "overflow": null,
            "overflow_x": null,
            "overflow_y": null,
            "padding": null,
            "right": null,
            "top": null,
            "visibility": null,
            "width": null
          }
        },
        "6308a1dadad7450b85e1570b65898ecc": {
          "model_module": "@jupyter-widgets/controls",
          "model_name": "DescriptionStyleModel",
          "model_module_version": "1.5.0",
          "state": {
            "_model_module": "@jupyter-widgets/controls",
            "_model_module_version": "1.5.0",
            "_model_name": "DescriptionStyleModel",
            "_view_count": null,
            "_view_module": "@jupyter-widgets/base",
            "_view_module_version": "1.2.0",
            "_view_name": "StyleView",
            "description_width": ""
          }
        },
        "63bb0f1d19b04c6a9fd653b9907b17ed": {
          "model_module": "@jupyter-widgets/base",
          "model_name": "LayoutModel",
          "model_module_version": "1.2.0",
          "state": {
            "_model_module": "@jupyter-widgets/base",
            "_model_module_version": "1.2.0",
            "_model_name": "LayoutModel",
            "_view_count": null,
            "_view_module": "@jupyter-widgets/base",
            "_view_module_version": "1.2.0",
            "_view_name": "LayoutView",
            "align_content": null,
            "align_items": null,
            "align_self": null,
            "border": null,
            "bottom": null,
            "display": null,
            "flex": null,
            "flex_flow": null,
            "grid_area": null,
            "grid_auto_columns": null,
            "grid_auto_flow": null,
            "grid_auto_rows": null,
            "grid_column": null,
            "grid_gap": null,
            "grid_row": null,
            "grid_template_areas": null,
            "grid_template_columns": null,
            "grid_template_rows": null,
            "height": null,
            "justify_content": null,
            "justify_items": null,
            "left": null,
            "margin": null,
            "max_height": null,
            "max_width": null,
            "min_height": null,
            "min_width": null,
            "object_fit": null,
            "object_position": null,
            "order": null,
            "overflow": null,
            "overflow_x": null,
            "overflow_y": null,
            "padding": null,
            "right": null,
            "top": null,
            "visibility": null,
            "width": null
          }
        },
        "328dff00eda6427297bb8253b20b639d": {
          "model_module": "@jupyter-widgets/controls",
          "model_name": "ProgressStyleModel",
          "model_module_version": "1.5.0",
          "state": {
            "_model_module": "@jupyter-widgets/controls",
            "_model_module_version": "1.5.0",
            "_model_name": "ProgressStyleModel",
            "_view_count": null,
            "_view_module": "@jupyter-widgets/base",
            "_view_module_version": "1.2.0",
            "_view_name": "StyleView",
            "bar_color": null,
            "description_width": ""
          }
        },
        "9333d78be2144eb489f9233072ecf5bf": {
          "model_module": "@jupyter-widgets/base",
          "model_name": "LayoutModel",
          "model_module_version": "1.2.0",
          "state": {
            "_model_module": "@jupyter-widgets/base",
            "_model_module_version": "1.2.0",
            "_model_name": "LayoutModel",
            "_view_count": null,
            "_view_module": "@jupyter-widgets/base",
            "_view_module_version": "1.2.0",
            "_view_name": "LayoutView",
            "align_content": null,
            "align_items": null,
            "align_self": null,
            "border": null,
            "bottom": null,
            "display": null,
            "flex": null,
            "flex_flow": null,
            "grid_area": null,
            "grid_auto_columns": null,
            "grid_auto_flow": null,
            "grid_auto_rows": null,
            "grid_column": null,
            "grid_gap": null,
            "grid_row": null,
            "grid_template_areas": null,
            "grid_template_columns": null,
            "grid_template_rows": null,
            "height": null,
            "justify_content": null,
            "justify_items": null,
            "left": null,
            "margin": null,
            "max_height": null,
            "max_width": null,
            "min_height": null,
            "min_width": null,
            "object_fit": null,
            "object_position": null,
            "order": null,
            "overflow": null,
            "overflow_x": null,
            "overflow_y": null,
            "padding": null,
            "right": null,
            "top": null,
            "visibility": null,
            "width": null
          }
        },
        "0ff313f67225476eb1d7084823aa5084": {
          "model_module": "@jupyter-widgets/controls",
          "model_name": "DescriptionStyleModel",
          "model_module_version": "1.5.0",
          "state": {
            "_model_module": "@jupyter-widgets/controls",
            "_model_module_version": "1.5.0",
            "_model_name": "DescriptionStyleModel",
            "_view_count": null,
            "_view_module": "@jupyter-widgets/base",
            "_view_module_version": "1.2.0",
            "_view_name": "StyleView",
            "description_width": ""
          }
        }
      }
    }
  },
  "nbformat": 4,
  "nbformat_minor": 0
}