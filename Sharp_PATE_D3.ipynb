{
  "cells": [
    {
      "cell_type": "markdown",
      "metadata": {
        "id": "DH9pryo-oHJq"
      },
      "source": [
        "# Deep Learning using Differential Privacy"
      ]
    },
    {
      "cell_type": "markdown",
      "metadata": {
        "id": "hCGCEpAroHJs"
      },
      "source": [
        "## Step 1: Load the Data"
      ]
    },
    {
      "cell_type": "code",
      "execution_count": null,
      "metadata": {
        "id": "GI75f5-4oHJs",
        "colab": {
          "base_uri": "https://localhost:8080/"
        },
        "outputId": "8211f3ab-b715-4d99-8290-8af511138e85"
      },
      "outputs": [
        {
          "output_type": "stream",
          "name": "stdout",
          "text": [
            "Using downloaded and verified file: data/MNIST/raw/train-images-idx3-ubyte.gz\n",
            "Extracting data/MNIST/raw/train-images-idx3-ubyte.gz to data/MNIST/raw\n",
            "Using downloaded and verified file: data/MNIST/raw/train-labels-idx1-ubyte.gz\n",
            "Extracting data/MNIST/raw/train-labels-idx1-ubyte.gz to data/MNIST/raw\n",
            "Using downloaded and verified file: data/MNIST/raw/t10k-images-idx3-ubyte.gz\n",
            "Extracting data/MNIST/raw/t10k-images-idx3-ubyte.gz to data/MNIST/raw\n",
            "Using downloaded and verified file: data/MNIST/raw/t10k-labels-idx1-ubyte.gz\n",
            "Extracting data/MNIST/raw/t10k-labels-idx1-ubyte.gz to data/MNIST/raw\n",
            "Processing...\n",
            "Done!\n"
          ]
        }
      ],
      "source": [
        "import torch\n",
        "from torchvision import datasets, transforms\n",
        "from torch.utils.data import Subset\n",
        "from sam import SAM\n",
        "from syft.frameworks.torch.dp import pate\n",
        "\n",
        "# Transform the image to a tensor and normalize it\n",
        "transform = transforms.Compose([transforms.ToTensor(),\n",
        "                                transforms.Normalize((0.5,), (0.5,))])\n",
        "\n",
        "# Load the train and test data by using the transform\n",
        "train_data = datasets.MNIST(root='data', train=True, download=True, transform=transform)\n",
        "test_data = datasets.MNIST(root='data', train=False, download=True, transform=transform)"
      ]
    },
    {
      "cell_type": "code",
      "execution_count": null,
      "metadata": {
        "id": "crrLASoMoHJt"
      },
      "outputs": [],
      "source": [
        "num_teachers = 100 # Define the num of teachers\n",
        "batch_size = 32 # Teacher batch size\n",
        "\n",
        "def get_data_loaders(train_data, num_teachers):\n",
        "    \"\"\" Function to create data loaders for the Teacher classifier \"\"\"\n",
        "    teacher_loaders = []\n",
        "    data_size = len(train_data) // num_teachers\n",
        "    \n",
        "    for i in range(data_size):\n",
        "        indices = list(range(i*data_size, (i+1)*data_size))\n",
        "        subset_data = Subset(train_data, indices)\n",
        "        loader = torch.utils.data.DataLoader(subset_data, batch_size=batch_size)\n",
        "        teacher_loaders.append(loader)\n",
        "        \n",
        "    return teacher_loaders\n",
        "\n",
        "teacher_loaders = get_data_loaders(train_data, num_teachers)"
      ]
    },
    {
      "cell_type": "code",
      "execution_count": null,
      "metadata": {
        "id": "9_9-E0AQoHJu"
      },
      "outputs": [],
      "source": [
        "# Create the public dataset by using 90% of the Test data as train data and remaining\n",
        "# 10% as test data.\n",
        "student_train_data = Subset(test_data, list(range(9000)))\n",
        "student_test_data = Subset(test_data, list(range(9000, 10000)))\n",
        "\n",
        "student_train_loader = torch.utils.data.DataLoader(student_train_data, batch_size=batch_size)\n",
        "student_test_loader = torch.utils.data.DataLoader(student_test_data, batch_size=batch_size)"
      ]
    },
    {
      "cell_type": "markdown",
      "metadata": {
        "id": "4gLBmw7boHJu"
      },
      "source": [
        "## Step 2: Define and Train the Teacher models"
      ]
    },
    {
      "cell_type": "code",
      "execution_count": null,
      "metadata": {
        "id": "_Q3FZF_qoHJu"
      },
      "outputs": [],
      "source": [
        "import torch.nn as nn\n",
        "import torch.nn.functional as F\n",
        "import torch.optim as optim\n",
        "\n",
        "class Classifier(nn.Module):\n",
        "    \"\"\" A Simple Feed Forward Neural Network. \n",
        "        A CNN can also be used for this problem \n",
        "    \"\"\"\n",
        "    def __init__(self):\n",
        "        super().__init__()\n",
        "        \n",
        "        self.conv1 = nn.Conv2d(1, 10, kernel_size=5)\n",
        "        self.conv2 = nn.Conv2d(10, 20, kernel_size=5)\n",
        "        self.conv2_drop = nn.Dropout2d()\n",
        "        self.fc1 = nn.Linear(320, 50)\n",
        "        self.fc2 = nn.Linear(50, 10)\n",
        "    \n",
        "    def forward(self, x):\n",
        "        x = F.relu(F.max_pool2d(self.conv1(x), 2))\n",
        "        x = F.relu(F.max_pool2d(self.conv2_drop(self.conv2(x)), 2))\n",
        "        x = x.view(-1, 320)\n",
        "        x = F.relu(self.fc1(x))\n",
        "        x = F.dropout(x, training=self.training)\n",
        "        x = self.fc2(x)\n",
        "        return F.log_softmax(x)"
      ]
    },
    {
      "cell_type": "code",
      "execution_count": null,
      "metadata": {
        "id": "16G4RiQDoHJv"
      },
      "outputs": [],
      "source": [
        "def train(model, trainloader, criterion, optimizer, epochs=10):\n",
        "    \"\"\" This function trains a single Classifier model \"\"\"\n",
        "    running_loss = 0\n",
        "    for e in range(epochs):\n",
        "        model.train()\n",
        "        \n",
        "        for images, labels in trainloader:\n",
        "            optimizer.zero_grad()\n",
        "            output = model.forward(images)\n",
        "            loss = criterion(output, labels)\n",
        "            loss.backward()\n",
        "            optimizer.first_step(zero_grad=True)\n",
        "            # optimizer.step()\n",
        "            criterion(model.forward(images), labels).backward()\n",
        "            optimizer.second_step(zero_grad=True)\n",
        "            \n",
        "            running_loss += loss.item()\n",
        "        "
      ]
    },
    {
      "cell_type": "code",
      "execution_count": null,
      "metadata": {
        "id": "8WzbuAt9oHJy"
      },
      "outputs": [],
      "source": [
        "def predict(model, dataloader):\n",
        "    \"\"\" This function predicts labels for a dataset \n",
        "        given the model and dataloader as inputs. \n",
        "    \"\"\"\n",
        "    outputs = torch.zeros(0, dtype=torch.long)\n",
        "    model.eval()\n",
        "    \n",
        "    for images, labels in dataloader:\n",
        "        output = model.forward(images)\n",
        "        ps = torch.argmax(torch.exp(output), dim=1)\n",
        "        outputs = torch.cat((outputs, ps))\n",
        "        \n",
        "    return outputs"
      ]
    },
    {
      "cell_type": "code",
      "execution_count": null,
      "metadata": {
        "id": "dlQNZQ3AoHJz",
        "colab": {
          "base_uri": "https://localhost:8080/"
        },
        "outputId": "ceac5d8c-517f-4e75-da34-640168e47550"
      },
      "outputs": [
        {
          "output_type": "stream",
          "name": "stdout",
          "text": [
            "\n",
            "\n",
            " Rho:  0.0005\n"
          ]
        },
        {
          "output_type": "stream",
          "name": "stderr",
          "text": [
            "/usr/local/lib/python3.7/dist-packages/ipykernel_launcher.py:25: UserWarning: Implicit dimension choice for log_softmax has been deprecated. Change the call to include dim=X as an argument.\n"
          ]
        },
        {
          "output_type": "stream",
          "name": "stdout",
          "text": [
            "Epoch: 1/5..  Training Loss: 0.304..  Test Loss: 0.673..  Test Accuracy: 0.808\n",
            "Epoch: 1/5..  Training Loss: 0.148..  Test Loss: 0.399..  Test Accuracy: 0.869\n",
            "Epoch: 1/5..  Training Loss: 0.125..  Test Loss: 0.309..  Test Accuracy: 0.915\n",
            "Epoch: 1/5..  Training Loss: 0.079..  Test Loss: 0.297..  Test Accuracy: 0.921\n",
            "Epoch: 1/5..  Training Loss: 0.076..  Test Loss: 0.244..  Test Accuracy: 0.938\n",
            "Epoch: 2/5..  Training Loss: 0.120..  Test Loss: 0.353..  Test Accuracy: 0.940\n",
            "Epoch: 2/5..  Training Loss: 0.092..  Test Loss: 0.210..  Test Accuracy: 0.942\n",
            "Epoch: 2/5..  Training Loss: 0.072..  Test Loss: 0.269..  Test Accuracy: 0.924\n",
            "Epoch: 2/5..  Training Loss: 0.069..  Test Loss: 0.216..  Test Accuracy: 0.940\n",
            "Epoch: 2/5..  Training Loss: 0.052..  Test Loss: 0.221..  Test Accuracy: 0.942\n",
            "Epoch: 2/5..  Training Loss: 0.045..  Test Loss: 0.192..  Test Accuracy: 0.948\n",
            "Epoch: 3/5..  Training Loss: 0.125..  Test Loss: 0.235..  Test Accuracy: 0.928\n",
            "Epoch: 3/5..  Training Loss: 0.082..  Test Loss: 0.207..  Test Accuracy: 0.942\n",
            "Epoch: 3/5..  Training Loss: 0.078..  Test Loss: 0.218..  Test Accuracy: 0.936\n",
            "Epoch: 3/5..  Training Loss: 0.059..  Test Loss: 0.208..  Test Accuracy: 0.948\n",
            "Epoch: 3/5..  Training Loss: 0.059..  Test Loss: 0.179..  Test Accuracy: 0.948\n",
            "Epoch: 4/5..  Training Loss: 0.084..  Test Loss: 0.180..  Test Accuracy: 0.948\n",
            "Epoch: 4/5..  Training Loss: 0.074..  Test Loss: 0.191..  Test Accuracy: 0.947\n",
            "Epoch: 4/5..  Training Loss: 0.058..  Test Loss: 0.180..  Test Accuracy: 0.945\n",
            "Epoch: 4/5..  Training Loss: 0.058..  Test Loss: 0.172..  Test Accuracy: 0.949\n",
            "Epoch: 4/5..  Training Loss: 0.041..  Test Loss: 0.199..  Test Accuracy: 0.944\n",
            "Epoch: 4/5..  Training Loss: 0.041..  Test Loss: 0.208..  Test Accuracy: 0.949\n",
            "Epoch: 5/5..  Training Loss: 0.096..  Test Loss: 0.251..  Test Accuracy: 0.938\n",
            "Epoch: 5/5..  Training Loss: 0.064..  Test Loss: 0.207..  Test Accuracy: 0.944\n",
            "Epoch: 5/5..  Training Loss: 0.051..  Test Loss: 0.186..  Test Accuracy: 0.947\n",
            "Epoch: 5/5..  Training Loss: 0.051..  Test Loss: 0.187..  Test Accuracy: 0.949\n",
            "Epoch: 5/5..  Training Loss: 0.037..  Test Loss: 0.201..  Test Accuracy: 0.944\n",
            "Epoch: 5/5..  Training Loss: 0.039..  Test Loss: 0.174..  Test Accuracy: 0.949\n",
            "Data Independent Epsilon: 1451.5129254649705\n",
            "Data Dependent Epsilon: 7.4434948554903\n",
            "\n",
            "\n",
            " Rho:  0.0005\n",
            "Epoch: 1/5..  Training Loss: 0.334..  Test Loss: 0.885..  Test Accuracy: 0.764\n",
            "Epoch: 1/5..  Training Loss: 0.162..  Test Loss: 0.474..  Test Accuracy: 0.864\n",
            "Epoch: 1/5..  Training Loss: 0.128..  Test Loss: 0.353..  Test Accuracy: 0.891\n",
            "Epoch: 1/5..  Training Loss: 0.079..  Test Loss: 0.349..  Test Accuracy: 0.890\n",
            "Epoch: 1/5..  Training Loss: 0.090..  Test Loss: 0.290..  Test Accuracy: 0.915\n",
            "Epoch: 2/5..  Training Loss: 0.118..  Test Loss: 0.509..  Test Accuracy: 0.912\n",
            "Epoch: 2/5..  Training Loss: 0.096..  Test Loss: 0.250..  Test Accuracy: 0.921\n",
            "Epoch: 2/5..  Training Loss: 0.083..  Test Loss: 0.235..  Test Accuracy: 0.931\n",
            "Epoch: 2/5..  Training Loss: 0.077..  Test Loss: 0.222..  Test Accuracy: 0.938\n",
            "Epoch: 2/5..  Training Loss: 0.054..  Test Loss: 0.203..  Test Accuracy: 0.948\n",
            "Epoch: 2/5..  Training Loss: 0.055..  Test Loss: 0.196..  Test Accuracy: 0.945\n",
            "Epoch: 3/5..  Training Loss: 0.107..  Test Loss: 0.229..  Test Accuracy: 0.930\n",
            "Epoch: 3/5..  Training Loss: 0.074..  Test Loss: 0.197..  Test Accuracy: 0.942\n",
            "Epoch: 3/5..  Training Loss: 0.069..  Test Loss: 0.186..  Test Accuracy: 0.944\n",
            "Epoch: 3/5..  Training Loss: 0.057..  Test Loss: 0.175..  Test Accuracy: 0.952\n",
            "Epoch: 3/5..  Training Loss: 0.048..  Test Loss: 0.177..  Test Accuracy: 0.953\n",
            "Epoch: 4/5..  Training Loss: 0.072..  Test Loss: 0.184..  Test Accuracy: 0.951\n",
            "Epoch: 4/5..  Training Loss: 0.069..  Test Loss: 0.189..  Test Accuracy: 0.946\n",
            "Epoch: 4/5..  Training Loss: 0.058..  Test Loss: 0.187..  Test Accuracy: 0.944\n",
            "Epoch: 4/5..  Training Loss: 0.062..  Test Loss: 0.185..  Test Accuracy: 0.943\n",
            "Epoch: 4/5..  Training Loss: 0.035..  Test Loss: 0.207..  Test Accuracy: 0.944\n",
            "Epoch: 4/5..  Training Loss: 0.043..  Test Loss: 0.189..  Test Accuracy: 0.947\n",
            "Epoch: 5/5..  Training Loss: 0.092..  Test Loss: 0.252..  Test Accuracy: 0.946\n",
            "Epoch: 5/5..  Training Loss: 0.065..  Test Loss: 0.201..  Test Accuracy: 0.941\n",
            "Epoch: 5/5..  Training Loss: 0.067..  Test Loss: 0.175..  Test Accuracy: 0.949\n",
            "Epoch: 5/5..  Training Loss: 0.055..  Test Loss: 0.187..  Test Accuracy: 0.947\n",
            "Epoch: 5/5..  Training Loss: 0.037..  Test Loss: 0.221..  Test Accuracy: 0.948\n",
            "Epoch: 5/5..  Training Loss: 0.037..  Test Loss: 0.194..  Test Accuracy: 0.945\n",
            "Data Independent Epsilon: 1451.5129254649705\n",
            "Data Dependent Epsilon: 53.20024961428818\n",
            "\n",
            "\n",
            " Rho:  0.0005\n",
            "Epoch: 1/5..  Training Loss: 0.325..  Test Loss: 0.796..  Test Accuracy: 0.786\n",
            "Epoch: 1/5..  Training Loss: 0.152..  Test Loss: 0.450..  Test Accuracy: 0.884\n",
            "Epoch: 1/5..  Training Loss: 0.109..  Test Loss: 0.352..  Test Accuracy: 0.908\n",
            "Epoch: 1/5..  Training Loss: 0.074..  Test Loss: 0.334..  Test Accuracy: 0.893\n",
            "Epoch: 1/5..  Training Loss: 0.081..  Test Loss: 0.245..  Test Accuracy: 0.931\n",
            "Epoch: 2/5..  Training Loss: 0.158..  Test Loss: 0.402..  Test Accuracy: 0.916\n",
            "Epoch: 2/5..  Training Loss: 0.098..  Test Loss: 0.248..  Test Accuracy: 0.927\n",
            "Epoch: 2/5..  Training Loss: 0.073..  Test Loss: 0.244..  Test Accuracy: 0.926\n",
            "Epoch: 2/5..  Training Loss: 0.069..  Test Loss: 0.231..  Test Accuracy: 0.928\n",
            "Epoch: 2/5..  Training Loss: 0.057..  Test Loss: 0.223..  Test Accuracy: 0.933\n",
            "Epoch: 2/5..  Training Loss: 0.050..  Test Loss: 0.321..  Test Accuracy: 0.917\n",
            "Epoch: 3/5..  Training Loss: 0.106..  Test Loss: 0.233..  Test Accuracy: 0.929\n",
            "Epoch: 3/5..  Training Loss: 0.073..  Test Loss: 0.204..  Test Accuracy: 0.938\n",
            "Epoch: 3/5..  Training Loss: 0.061..  Test Loss: 0.192..  Test Accuracy: 0.941\n",
            "Epoch: 3/5..  Training Loss: 0.054..  Test Loss: 0.198..  Test Accuracy: 0.950\n",
            "Epoch: 3/5..  Training Loss: 0.046..  Test Loss: 0.197..  Test Accuracy: 0.944\n",
            "Epoch: 4/5..  Training Loss: 0.072..  Test Loss: 0.317..  Test Accuracy: 0.917\n",
            "Epoch: 4/5..  Training Loss: 0.087..  Test Loss: 0.228..  Test Accuracy: 0.936\n",
            "Epoch: 4/5..  Training Loss: 0.059..  Test Loss: 0.193..  Test Accuracy: 0.946\n",
            "Epoch: 4/5..  Training Loss: 0.061..  Test Loss: 0.180..  Test Accuracy: 0.947\n",
            "Epoch: 4/5..  Training Loss: 0.041..  Test Loss: 0.191..  Test Accuracy: 0.948\n",
            "Epoch: 4/5..  Training Loss: 0.044..  Test Loss: 0.185..  Test Accuracy: 0.949\n",
            "Epoch: 5/5..  Training Loss: 0.090..  Test Loss: 0.261..  Test Accuracy: 0.929\n",
            "Epoch: 5/5..  Training Loss: 0.064..  Test Loss: 0.208..  Test Accuracy: 0.938\n",
            "Epoch: 5/5..  Training Loss: 0.057..  Test Loss: 0.185..  Test Accuracy: 0.944\n",
            "Epoch: 5/5..  Training Loss: 0.053..  Test Loss: 0.176..  Test Accuracy: 0.950\n",
            "Epoch: 5/5..  Training Loss: 0.039..  Test Loss: 0.184..  Test Accuracy: 0.949\n",
            "Epoch: 5/5..  Training Loss: 0.037..  Test Loss: 0.212..  Test Accuracy: 0.945\n",
            "Data Independent Epsilon: 1451.5129254649705\n",
            "Data Dependent Epsilon: 5.56414040791955\n",
            "\n",
            "\n",
            " Rho:  0.0005\n",
            "Epoch: 1/5..  Training Loss: 0.319..  Test Loss: 0.753..  Test Accuracy: 0.765\n",
            "Epoch: 1/5..  Training Loss: 0.150..  Test Loss: 0.421..  Test Accuracy: 0.890\n",
            "Epoch: 1/5..  Training Loss: 0.115..  Test Loss: 0.343..  Test Accuracy: 0.896\n",
            "Epoch: 1/5..  Training Loss: 0.083..  Test Loss: 0.309..  Test Accuracy: 0.900\n",
            "Epoch: 1/5..  Training Loss: 0.076..  Test Loss: 0.318..  Test Accuracy: 0.907\n",
            "Epoch: 2/5..  Training Loss: 0.134..  Test Loss: 0.371..  Test Accuracy: 0.907\n",
            "Epoch: 2/5..  Training Loss: 0.084..  Test Loss: 0.214..  Test Accuracy: 0.936\n",
            "Epoch: 2/5..  Training Loss: 0.072..  Test Loss: 0.206..  Test Accuracy: 0.930\n",
            "Epoch: 2/5..  Training Loss: 0.072..  Test Loss: 0.186..  Test Accuracy: 0.941\n",
            "Epoch: 2/5..  Training Loss: 0.053..  Test Loss: 0.198..  Test Accuracy: 0.940\n",
            "Epoch: 2/5..  Training Loss: 0.047..  Test Loss: 0.211..  Test Accuracy: 0.937\n",
            "Epoch: 3/5..  Training Loss: 0.114..  Test Loss: 0.221..  Test Accuracy: 0.935\n",
            "Epoch: 3/5..  Training Loss: 0.077..  Test Loss: 0.198..  Test Accuracy: 0.939\n",
            "Epoch: 3/5..  Training Loss: 0.067..  Test Loss: 0.208..  Test Accuracy: 0.936\n",
            "Epoch: 3/5..  Training Loss: 0.049..  Test Loss: 0.192..  Test Accuracy: 0.940\n",
            "Epoch: 3/5..  Training Loss: 0.046..  Test Loss: 0.181..  Test Accuracy: 0.948\n",
            "Epoch: 4/5..  Training Loss: 0.064..  Test Loss: 0.224..  Test Accuracy: 0.938\n",
            "Epoch: 4/5..  Training Loss: 0.079..  Test Loss: 0.187..  Test Accuracy: 0.950\n",
            "Epoch: 4/5..  Training Loss: 0.061..  Test Loss: 0.169..  Test Accuracy: 0.949\n",
            "Epoch: 4/5..  Training Loss: 0.068..  Test Loss: 0.187..  Test Accuracy: 0.947\n",
            "Epoch: 4/5..  Training Loss: 0.045..  Test Loss: 0.212..  Test Accuracy: 0.936\n",
            "Epoch: 4/5..  Training Loss: 0.040..  Test Loss: 0.166..  Test Accuracy: 0.945\n",
            "Epoch: 5/5..  Training Loss: 0.088..  Test Loss: 0.185..  Test Accuracy: 0.944\n",
            "Epoch: 5/5..  Training Loss: 0.057..  Test Loss: 0.157..  Test Accuracy: 0.950\n",
            "Epoch: 5/5..  Training Loss: 0.054..  Test Loss: 0.166..  Test Accuracy: 0.948\n",
            "Epoch: 5/5..  Training Loss: 0.047..  Test Loss: 0.190..  Test Accuracy: 0.944\n",
            "Epoch: 5/5..  Training Loss: 0.042..  Test Loss: 0.179..  Test Accuracy: 0.946\n",
            "Epoch: 5/5..  Training Loss: 0.038..  Test Loss: 0.216..  Test Accuracy: 0.942\n",
            "Data Independent Epsilon: 1451.5129254649705\n",
            "Data Dependent Epsilon: 30.8475529333051\n",
            "\n",
            "\n",
            " Rho:  0.0005\n",
            "Epoch: 1/5..  Training Loss: 0.327..  Test Loss: 0.830..  Test Accuracy: 0.783\n",
            "Epoch: 1/5..  Training Loss: 0.163..  Test Loss: 0.419..  Test Accuracy: 0.884\n",
            "Epoch: 1/5..  Training Loss: 0.115..  Test Loss: 0.345..  Test Accuracy: 0.892\n",
            "Epoch: 1/5..  Training Loss: 0.075..  Test Loss: 0.342..  Test Accuracy: 0.888\n",
            "Epoch: 1/5..  Training Loss: 0.089..  Test Loss: 0.319..  Test Accuracy: 0.902\n",
            "Epoch: 2/5..  Training Loss: 0.122..  Test Loss: 0.334..  Test Accuracy: 0.929\n",
            "Epoch: 2/5..  Training Loss: 0.097..  Test Loss: 0.261..  Test Accuracy: 0.924\n",
            "Epoch: 2/5..  Training Loss: 0.071..  Test Loss: 0.250..  Test Accuracy: 0.927\n",
            "Epoch: 2/5..  Training Loss: 0.071..  Test Loss: 0.198..  Test Accuracy: 0.940\n",
            "Epoch: 2/5..  Training Loss: 0.054..  Test Loss: 0.265..  Test Accuracy: 0.931\n",
            "Epoch: 2/5..  Training Loss: 0.057..  Test Loss: 0.204..  Test Accuracy: 0.939\n",
            "Epoch: 3/5..  Training Loss: 0.138..  Test Loss: 0.247..  Test Accuracy: 0.926\n",
            "Epoch: 3/5..  Training Loss: 0.085..  Test Loss: 0.205..  Test Accuracy: 0.942\n",
            "Epoch: 3/5..  Training Loss: 0.078..  Test Loss: 0.220..  Test Accuracy: 0.942\n",
            "Epoch: 3/5..  Training Loss: 0.062..  Test Loss: 0.205..  Test Accuracy: 0.945\n",
            "Epoch: 3/5..  Training Loss: 0.059..  Test Loss: 0.220..  Test Accuracy: 0.948\n",
            "Epoch: 4/5..  Training Loss: 0.095..  Test Loss: 0.250..  Test Accuracy: 0.940\n",
            "Epoch: 4/5..  Training Loss: 0.086..  Test Loss: 0.200..  Test Accuracy: 0.942\n",
            "Epoch: 4/5..  Training Loss: 0.068..  Test Loss: 0.190..  Test Accuracy: 0.948\n",
            "Epoch: 4/5..  Training Loss: 0.069..  Test Loss: 0.201..  Test Accuracy: 0.941\n",
            "Epoch: 4/5..  Training Loss: 0.040..  Test Loss: 0.218..  Test Accuracy: 0.931\n",
            "Epoch: 4/5..  Training Loss: 0.048..  Test Loss: 0.242..  Test Accuracy: 0.942\n",
            "Epoch: 5/5..  Training Loss: 0.108..  Test Loss: 0.230..  Test Accuracy: 0.944\n",
            "Epoch: 5/5..  Training Loss: 0.062..  Test Loss: 0.168..  Test Accuracy: 0.953\n",
            "Epoch: 5/5..  Training Loss: 0.064..  Test Loss: 0.193..  Test Accuracy: 0.947\n",
            "Epoch: 5/5..  Training Loss: 0.049..  Test Loss: 0.181..  Test Accuracy: 0.951\n",
            "Epoch: 5/5..  Training Loss: 0.040..  Test Loss: 0.233..  Test Accuracy: 0.942\n",
            "Epoch: 5/5..  Training Loss: 0.042..  Test Loss: 0.200..  Test Accuracy: 0.953\n",
            "Data Independent Epsilon: 1451.5129254649705\n",
            "Data Dependent Epsilon: 21.24915809013805\n"
          ]
        }
      ],
      "source": [
        "def train_models(num_teachers, rho_val):\n",
        "    \"\"\" Trains *num_teacher* models (num_teachers being the number of teacher classifiers) \"\"\"\n",
        "    models = []\n",
        "    for i in range(num_teachers):\n",
        "        model = Classifier()\n",
        "        criterion = nn.NLLLoss()\n",
        "        base_optimizer = optim.Adam\n",
        "        optimizer = SAM(model.parameters(), base_optimizer, rho=rho_val, adaptive=True, lr=0.003)\n",
        "        train(model, teacher_loaders[i], criterion, optimizer)\n",
        "        models.append(model)\n",
        "    return models\n",
        "\n",
        "\n",
        "\n",
        "rho_list = [0.0005]\n",
        "\n",
        "for j in range(5):\n",
        "  for i in range(len(rho_list)):\n",
        "    print(\"\\n\\n Rho: \", rho_list[i])\n",
        "    models = train_models(num_teachers, rho_list[i])\n",
        "\n",
        "    import numpy as np\n",
        "\n",
        "    epsilon = 0.2\n",
        "\n",
        "    def aggregated_teacher(models, dataloader, epsilon):\n",
        "        \"\"\" Take predictions from individual teacher model and \n",
        "            creates the true labels for the student after adding \n",
        "            laplacian noise to them \n",
        "        \"\"\"\n",
        "        preds = torch.torch.zeros((len(models), 9000   ), dtype=torch.long)\n",
        "        for i, model in enumerate(models):\n",
        "            results = predict(model, dataloader)\n",
        "            preds[i] = results\n",
        "        \n",
        "        labels = np.array([]).astype(int)\n",
        "        for image_preds in np.transpose(preds):\n",
        "            label_counts = np.bincount(image_preds, minlength=10)\n",
        "            beta = 1 / epsilon\n",
        "\n",
        "            for i in range(len(label_counts)):\n",
        "                label_counts[i] += np.random.laplace(0, beta, 1)\n",
        "\n",
        "            new_label = np.argmax(label_counts)\n",
        "            labels = np.append(labels, new_label)\n",
        "        \n",
        "        return preds.numpy(), labels\n",
        "\n",
        "    teacher_models = models\n",
        "    preds, student_labels = aggregated_teacher(teacher_models, student_train_loader, epsilon)\n",
        "\n",
        "    def student_loader(student_train_loader, labels):\n",
        "        for i, (data, _) in enumerate(iter(student_train_loader)):\n",
        "            yield data, torch.from_numpy(labels[i*len(data): (i+1)*len(data)])\n",
        "\n",
        "\n",
        "    student_model = Classifier()\n",
        "    criterion = nn.NLLLoss()\n",
        "    base_optimizer = optim.Adam\n",
        "\n",
        "    #rho_list = [0.0005]\n",
        "\n",
        "    optimizer = SAM(student_model.parameters(), base_optimizer, 0.05, adaptive=True, lr=0.003)\n",
        "    epochs = 5\n",
        "    steps = 0\n",
        "    running_loss = 0\n",
        "    for e in range(epochs):\n",
        "        student_model.train()\n",
        "        train_loader = student_loader(student_train_loader, student_labels)\n",
        "\n",
        "        for images, labels in train_loader:\n",
        "            steps += 1\n",
        "            \n",
        "            optimizer.zero_grad()\n",
        "            output = student_model.forward(images)\n",
        "            loss = criterion(output, labels)\n",
        "            loss.backward()\n",
        "            optimizer.first_step(zero_grad=True)\n",
        "            # optimizer.step()\n",
        "            criterion(student_model.forward(images), labels).backward() \n",
        "            optimizer.second_step(zero_grad=True)\n",
        "\n",
        "            running_loss += loss.item()\n",
        "            \n",
        "            if steps % 50 == 0:\n",
        "                test_loss = 0\n",
        "                accuracy = 0\n",
        "                student_model.eval()\n",
        "                with torch.no_grad():\n",
        "                    for images, labels in student_test_loader:\n",
        "                        log_ps = student_model(images)\n",
        "                        test_loss += criterion(log_ps, labels).item()\n",
        "                        \n",
        "                        # Accuracy\n",
        "                        ps = torch.exp(log_ps)\n",
        "                        top_p, top_class = ps.topk(1, dim=1)\n",
        "                        equals = top_class == labels.view(*top_class.shape)\n",
        "                        accuracy += torch.mean(equals.type(torch.FloatTensor))\n",
        "                student_model.train()\n",
        "                print(\"Epoch: {}/{}.. \".format(e+1, epochs),\n",
        "                      \"Training Loss: {:.3f}.. \".format(running_loss/len(student_train_loader)),\n",
        "                      \"Test Loss: {:.3f}.. \".format(test_loss/len(student_test_loader)),\n",
        "                      \"Test Accuracy: {:.3f}\".format(accuracy/len(student_test_loader)))\n",
        "                running_loss = 0\n",
        "\n",
        "\n",
        "    data_dep_eps, data_ind_eps = pate.perform_analysis(teacher_preds=preds, indices=student_labels, noise_eps=epsilon, delta=1e-5)\n",
        "    print(\"Data Independent Epsilon:\", data_ind_eps)\n",
        "    print(\"Data Dependent Epsilon:\", data_dep_eps)"
      ]
    },
    {
      "cell_type": "code",
      "execution_count": null,
      "metadata": {
        "id": "x717y8-aoHJz"
      },
      "outputs": [],
      "source": [
        ""
      ]
    },
    {
      "cell_type": "markdown",
      "metadata": {
        "id": "lSZNBerMoHJ0"
      },
      "source": [
        "## Step 3: Create the Aggregated Teacher and Student Labels by combining the predictions of Teacher models"
      ]
    },
    {
      "cell_type": "markdown",
      "metadata": {
        "id": "h8h-Pi3WoHJ0"
      },
      "source": [
        "Now, we need to chose the epsilon value for which we first define the formal definition of Differential Privacy\n",
        "\n",
        "![alt text](dp_formula.png \"Title\")"
      ]
    },
    {
      "cell_type": "markdown",
      "metadata": {
        "id": "yBKBepPYoHJ0"
      },
      "source": [
        "This definition does not _create_ differential privacy, instead it is a measure of how much privacy is afforded by a query M. Specifically, it's a comparison between running the query M on a database (x) and a parallel database (y). As you remember, parallel databases are defined to be the same as a full database (x) with one entry/person removed.\n",
        "\n",
        "Thus, this definition says that FOR ALL parallel databases, the maximum distance between a query on database (x) and the same query on database (y) will be e^epsilon, but that occasionally this constraint won't hold with probability delta. Thus, this theorem is called \"epsilon delta\" differential privacy.\n",
        "\n",
        "\n",
        "\n",
        "### How much noise should we add?\n",
        "\n",
        "The amount of noise necessary to add to the output of a query is a function of four things:\n",
        "\n",
        "- the type of noise (Gaussian/Laplacian)\n",
        "- the sensitivity of the query/function\n",
        "- the desired epsilon (ε)\n",
        "- the desired delta (δ)\n",
        "\n",
        "Thus, for each type of noise we're adding, we have different way of calculating how much to add as a function of sensitivity, epsilon, and delta. We're going to focus on Laplacian noise. Laplacian noise is increased/decreased according to a \"scale\" parameter b. We choose \"b\" based on the following formula.\n",
        "\n",
        "b = sensitivity(query) / epsilon\n",
        "\n",
        "In other words, if we set b to be this value, then we know that we will have a privacy leakage of <= epsilon. Furthermore, the nice thing about Laplace is that it guarantees this with delta == 0. There are some tunings where we can have very low epsilon where delta is non-zero, but we'll ignore them for now.\n"
      ]
    },
    {
      "cell_type": "markdown",
      "metadata": {
        "id": "sSSvLJsSoHJ1"
      },
      "source": [
        "## Step 4: Create the Student model and train it using the labels generated in step 3."
      ]
    },
    {
      "cell_type": "markdown",
      "metadata": {
        "id": "JfMONCzJoHJ2"
      },
      "source": [
        "## Step 5: Let's Perform PATE Analysis on the student labels generated by the Aggregated Teacher"
      ]
    },
    {
      "cell_type": "code",
      "source": [
        "# pip install syft==0.2.9"
      ],
      "metadata": {
        "id": "A3yeFu2-YqTq"
      },
      "execution_count": null,
      "outputs": []
    },
    {
      "cell_type": "code",
      "execution_count": null,
      "metadata": {
        "id": "c2VQkhCgoHJ2"
      },
      "outputs": [],
      "source": [
        "# from syft.frameworks.torch.dp import pate\n",
        "\n",
        "# data_dep_eps, data_ind_eps = pate.perform_analysis(teacher_preds=preds, indices=student_labels, noise_eps=epsilon, delta=1e-5)\n",
        "# print(\"Data Independent Epsilon:\", data_ind_eps)\n",
        "# print(\"Data Dependent Epsilon:\", data_dep_eps)"
      ]
    },
    {
      "cell_type": "markdown",
      "metadata": {
        "id": "x3bHlQd5oHJ2"
      },
      "source": [
        "The pate.perform_analysis method returns two values - a data independent epsilon and a data dependent epsilon. The data dependent epsilon is the epsilon value obtained by looking at how much the teachers agree with each other. In a way, the PATE analysis rewards the user for building teacher models which agree with each other because it becomes harder to leak information and track individual information."
      ]
    },
    {
      "cell_type": "code",
      "execution_count": null,
      "metadata": {
        "id": "WVFfjTPYoHJ3"
      },
      "outputs": [],
      "source": [
        ""
      ]
    },
    {
      "cell_type": "code",
      "execution_count": null,
      "metadata": {
        "id": "SSBSFxOYoHJ3"
      },
      "outputs": [],
      "source": [
        ""
      ]
    }
  ],
  "metadata": {
    "kernelspec": {
      "display_name": "Python 3",
      "language": "python",
      "name": "python3"
    },
    "language_info": {
      "codemirror_mode": {
        "name": "ipython",
        "version": 3
      },
      "file_extension": ".py",
      "mimetype": "text/x-python",
      "name": "python",
      "nbconvert_exporter": "python",
      "pygments_lexer": "ipython3",
      "version": "3.7.3"
    },
    "colab": {
      "name": "Sharp-PATE_D3.ipynb",
      "provenance": [],
      "collapsed_sections": []
    },
    "accelerator": "GPU"
  },
  "nbformat": 4,
  "nbformat_minor": 0
}