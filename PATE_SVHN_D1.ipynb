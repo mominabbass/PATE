{
  "cells": [
    {
      "cell_type": "markdown",
      "metadata": {
        "id": "DH9pryo-oHJq"
      },
      "source": [
        "# Deep Learning using Differential Privacy"
      ]
    },
    {
      "cell_type": "markdown",
      "metadata": {
        "id": "hCGCEpAroHJs"
      },
      "source": [
        "## Step 1: Load the Data"
      ]
    },
    {
      "cell_type": "code",
      "execution_count": null,
      "metadata": {
        "id": "GI75f5-4oHJs",
        "colab": {
          "base_uri": "https://localhost:8080/"
        },
        "outputId": "e9889990-fb84-4600-9814-a68727306d54"
      },
      "outputs": [
        {
          "output_type": "stream",
          "name": "stdout",
          "text": [
            "Using downloaded and verified file: datasets/SVHN/train/train_32x32.mat\n",
            "Using downloaded and verified file: datasets/SVHN/test/test_32x32.mat\n"
          ]
        }
      ],
      "source": [
        "import torch\n",
        "\n",
        "from torchvision import datasets, transforms\n",
        "from torch.utils.data import Subset\n",
        "from syft.frameworks.torch.dp import pate\n",
        "\n",
        "# Transform the image to a tensor and normalize it\n",
        "transform = transforms.Compose([transforms.ToTensor(),\n",
        "                                transforms.Normalize((0.5,), (0.5,))])\n",
        "\n",
        "# Load the train and test data by using the transform\n",
        "train_data = datasets.SVHN('datasets/SVHN/train/', split='train', transform=transform, target_transform=None, download=True)\n",
        "test_data = datasets.SVHN('datasets/SVHN/test/', split='test', transform=transform, target_transform=None, download=True)"
      ]
    },
    {
      "cell_type": "code",
      "execution_count": null,
      "metadata": {
        "id": "crrLASoMoHJt"
      },
      "outputs": [],
      "source": [
        "num_teachers = 100 # Define the num of teachers\n",
        "batch_size = 50 # Teacher batch size\n",
        "\n",
        "def get_data_loaders(train_data, num_teachers):\n",
        "    \"\"\" Function to create data loaders for the Teacher classifier \"\"\"\n",
        "    teacher_loaders = []\n",
        "    data_size = len(train_data) // num_teachers\n",
        "    \n",
        "    for i in range(data_size):\n",
        "        indices = list(range(i*data_size, (i+1)*data_size))\n",
        "        subset_data = Subset(train_data, indices)\n",
        "        loader = torch.utils.data.DataLoader(subset_data, batch_size=batch_size)\n",
        "        teacher_loaders.append(loader)\n",
        "        \n",
        "    return teacher_loaders\n",
        "\n",
        "teacher_loaders = get_data_loaders(train_data, num_teachers)"
      ]
    },
    {
      "cell_type": "code",
      "execution_count": null,
      "metadata": {
        "id": "9_9-E0AQoHJu"
      },
      "outputs": [],
      "source": [
        "# Create the public dataset by using 90% of the Test data as train data and remaining\n",
        "# 10% as test data.\n",
        "student_train_data = Subset(test_data, list(range(9000)))\n",
        "student_test_data = Subset(test_data, list(range(9000, 10000)))\n",
        "\n",
        "student_train_loader = torch.utils.data.DataLoader(student_train_data, batch_size=batch_size)\n",
        "student_test_loader = torch.utils.data.DataLoader(student_test_data, batch_size=batch_size)"
      ]
    },
    {
      "cell_type": "markdown",
      "metadata": {
        "id": "4gLBmw7boHJu"
      },
      "source": [
        "## Step 2: Define and Train the Teacher models"
      ]
    },
    {
      "cell_type": "code",
      "execution_count": null,
      "metadata": {
        "id": "_Q3FZF_qoHJu"
      },
      "outputs": [],
      "source": [
        "import torch.nn as nn\n",
        "import torch.nn.functional as F\n",
        "import torch.optim as optim\n",
        "\n",
        "class Classifier(nn.Module):\n",
        "    \"\"\" A Simple Feed Forward Neural Network. \n",
        "        A CNN can also be used for this problem \n",
        "    \"\"\"\n",
        "    def __init__(self):\n",
        "        super().__init__()\n",
        "        \n",
        "        self.conv1 = nn.Conv2d(3, 10, kernel_size=5)\n",
        "        self.conv2 = nn.Conv2d(10, 20, kernel_size=5)\n",
        "        self.conv2_drop = nn.Dropout2d()\n",
        "        self.fc1 = nn.Linear(500, 50)\n",
        "        self.fc2 = nn.Linear(50, 10)\n",
        "    \n",
        "    def forward(self, x):\n",
        "        x = F.relu(F.max_pool2d(self.conv1(x), 2))\n",
        "        x = F.relu(F.max_pool2d(self.conv2_drop(self.conv2(x)), 2))\n",
        "        x = x.view(-1, 500)\n",
        "        x = F.relu(self.fc1(x))\n",
        "        x = F.dropout(x, training=self.training)\n",
        "        x = self.fc2(x)\n",
        "        return F.log_softmax(x)"
      ]
    },
    {
      "cell_type": "code",
      "execution_count": null,
      "metadata": {
        "id": "16G4RiQDoHJv"
      },
      "outputs": [],
      "source": [
        "def train(model, trainloader, criterion, optimizer, epochs=10):\n",
        "    \"\"\" This function trains a single Classifier model \"\"\"\n",
        "    running_loss = 0\n",
        "    for e in range(epochs):\n",
        "        model.train()\n",
        "        \n",
        "        for images, labels in trainloader:\n",
        "            optimizer.zero_grad()\n",
        "            \n",
        "            output = model.forward(images)\n",
        "            loss = criterion(output, labels)\n",
        "            loss.backward()\n",
        "            optimizer.step()\n",
        "            \n",
        "            running_loss += loss.item()\n",
        "        "
      ]
    },
    {
      "cell_type": "code",
      "execution_count": null,
      "metadata": {
        "id": "8WzbuAt9oHJy"
      },
      "outputs": [],
      "source": [
        "def predict(model, dataloader):\n",
        "    \"\"\" This function predicts labels for a dataset \n",
        "        given the model and dataloader as inputs. \n",
        "    \"\"\"\n",
        "    outputs = torch.zeros(0, dtype=torch.long)\n",
        "    model.eval()\n",
        "    \n",
        "    for images, labels in dataloader:\n",
        "        output = model.forward(images)\n",
        "        ps = torch.argmax(torch.exp(output), dim=1)\n",
        "        outputs = torch.cat((outputs, ps))\n",
        "        \n",
        "    return outputs"
      ]
    },
    {
      "cell_type": "code",
      "execution_count": null,
      "metadata": {
        "id": "dlQNZQ3AoHJz"
      },
      "outputs": [],
      "source": [
        "def train_models(num_teachers):\n",
        "    \"\"\" Trains *num_teacher* models (num_teachers being the number of teacher classifiers) \"\"\"\n",
        "    models = []\n",
        "    for i in range(num_teachers):\n",
        "        model = Classifier()\n",
        "        criterion = nn.NLLLoss()\n",
        "        optimizer = optim.Adam(model.parameters(), lr=0.003)\n",
        "        train(model, teacher_loaders[i], criterion, optimizer)\n",
        "        models.append(model)\n",
        "    return models"
      ]
    },
    {
      "cell_type": "code",
      "execution_count": null,
      "metadata": {
        "colab": {
          "base_uri": "https://localhost:8080/"
        },
        "id": "x717y8-aoHJz",
        "outputId": "5720b213-65ed-45a7-c7f7-071d17a4766b"
      },
      "outputs": [
        {
          "output_type": "stream",
          "name": "stderr",
          "text": [
            "/usr/local/lib/python3.7/dist-packages/ipykernel_launcher.py:25: UserWarning: Implicit dimension choice for log_softmax has been deprecated. Change the call to include dim=X as an argument.\n"
          ]
        }
      ],
      "source": [
        "models = train_models(num_teachers)"
      ]
    },
    {
      "cell_type": "code",
      "execution_count": null,
      "metadata": {
        "id": "h7wEC37hoHJ1"
      },
      "outputs": [],
      "source": [
        "import numpy as np\n",
        "\n",
        "\n",
        "epsilon = 0.2"
      ]
    },
    {
      "cell_type": "code",
      "execution_count": null,
      "metadata": {
        "id": "5FU5w3t0oHJ1"
      },
      "outputs": [],
      "source": [
        "def aggregated_teacher(models, dataloader, epsilon):\n",
        "    \"\"\" Take predictions from individual teacher model and \n",
        "        creates the true labels for the student after adding \n",
        "        laplacian noise to them \n",
        "    \"\"\"\n",
        "    preds = torch.torch.zeros((len(models), 9000), dtype=torch.long)\n",
        "    for i, model in enumerate(models):\n",
        "        results = predict(model, dataloader)\n",
        "        preds[i] = results\n",
        "    \n",
        "    labels = np.array([]).astype(int)\n",
        "    for image_preds in np.transpose(preds):\n",
        "        label_counts = np.bincount(image_preds, minlength=10)\n",
        "        beta = 1 / epsilon\n",
        "\n",
        "        for i in range(len(label_counts)):\n",
        "            label_counts[i] += np.random.laplace(0, beta, 1)\n",
        "\n",
        "        new_label = np.argmax(label_counts)\n",
        "        labels = np.append(labels, new_label)\n",
        "    \n",
        "    return preds.numpy(), labels"
      ]
    },
    {
      "cell_type": "code",
      "execution_count": null,
      "metadata": {
        "colab": {
          "base_uri": "https://localhost:8080/"
        },
        "id": "aJtKGjmWoHJ1",
        "outputId": "eddb5c15-a66c-4e96-8a33-bcf15c40d530"
      },
      "outputs": [
        {
          "output_type": "stream",
          "name": "stderr",
          "text": [
            "/usr/local/lib/python3.7/dist-packages/ipykernel_launcher.py:25: UserWarning: Implicit dimension choice for log_softmax has been deprecated. Change the call to include dim=X as an argument.\n"
          ]
        }
      ],
      "source": [
        "teacher_models = models\n",
        "preds, student_labels = aggregated_teacher(teacher_models, student_train_loader, epsilon)"
      ]
    },
    {
      "cell_type": "markdown",
      "metadata": {
        "id": "sSSvLJsSoHJ1"
      },
      "source": [
        "## Step 4: Create the Student model and train it using the labels generated in step 3."
      ]
    },
    {
      "cell_type": "code",
      "execution_count": null,
      "metadata": {
        "id": "-AZ7mPHeoHJ1"
      },
      "outputs": [],
      "source": [
        "def student_loader(student_train_loader, labels):\n",
        "    for i, (data, _) in enumerate(iter(student_train_loader)):\n",
        "        yield data, torch.from_numpy(labels[i*len(data): (i+1)*len(data)])\n",
        "        "
      ]
    },
    {
      "cell_type": "code",
      "execution_count": null,
      "metadata": {
        "colab": {
          "base_uri": "https://localhost:8080/"
        },
        "id": "MpU56JNcoHJ2",
        "outputId": "f6520338-b153-4eb9-ad4b-e10a7f26faf2"
      },
      "outputs": [
        {
          "output_type": "stream",
          "name": "stdout",
          "text": [
            "\n",
            "\n",
            " Lr:  0.3\n"
          ]
        },
        {
          "output_type": "stream",
          "name": "stderr",
          "text": [
            "/usr/local/lib/python3.7/dist-packages/ipykernel_launcher.py:25: UserWarning: Implicit dimension choice for log_softmax has been deprecated. Change the call to include dim=X as an argument.\n"
          ]
        },
        {
          "output_type": "stream",
          "name": "stdout",
          "text": [
            "Epoch: 1/10..  Training Loss: 70.273..  Test Loss: 3.741..  Test Accuracy: 0.217\n",
            "Epoch: 1/10..  Training Loss: 0.199..  Test Loss: 4.404..  Test Accuracy: 0.217\n",
            "Epoch: 1/10..  Training Loss: 0.207..  Test Loss: 4.349..  Test Accuracy: 0.217\n",
            "Epoch: 2/10..  Training Loss: 0.199..  Test Loss: 4.517..  Test Accuracy: 0.217\n",
            "Epoch: 2/10..  Training Loss: 0.188..  Test Loss: 4.585..  Test Accuracy: 0.217\n",
            "Epoch: 2/10..  Training Loss: 0.206..  Test Loss: 4.329..  Test Accuracy: 0.217\n",
            "Epoch: 2/10..  Training Loss: 0.199..  Test Loss: 4.536..  Test Accuracy: 0.217\n",
            "Epoch: 3/10..  Training Loss: 0.199..  Test Loss: 4.721..  Test Accuracy: 0.217\n",
            "Epoch: 3/10..  Training Loss: 0.196..  Test Loss: 4.625..  Test Accuracy: 0.217\n",
            "Epoch: 3/10..  Training Loss: 0.199..  Test Loss: 4.887..  Test Accuracy: 0.217\n",
            "Epoch: 4/10..  Training Loss: 0.206..  Test Loss: 4.488..  Test Accuracy: 0.217\n",
            "Epoch: 4/10..  Training Loss: 0.193..  Test Loss: 4.768..  Test Accuracy: 0.217\n",
            "Epoch: 4/10..  Training Loss: 0.197..  Test Loss: 4.492..  Test Accuracy: 0.217\n",
            "Epoch: 4/10..  Training Loss: 0.206..  Test Loss: 4.603..  Test Accuracy: 0.217\n",
            "Epoch: 5/10..  Training Loss: 0.199..  Test Loss: 4.482..  Test Accuracy: 0.217\n",
            "Epoch: 5/10..  Training Loss: 0.192..  Test Loss: 4.516..  Test Accuracy: 0.217\n",
            "Epoch: 5/10..  Training Loss: 0.203..  Test Loss: 4.776..  Test Accuracy: 0.217\n",
            "Epoch: 5/10..  Training Loss: 0.201..  Test Loss: 4.727..  Test Accuracy: 0.217\n",
            "Epoch: 6/10..  Training Loss: 0.196..  Test Loss: 4.746..  Test Accuracy: 0.217\n",
            "Epoch: 6/10..  Training Loss: 0.193..  Test Loss: 4.843..  Test Accuracy: 0.217\n",
            "Epoch: 6/10..  Training Loss: 0.208..  Test Loss: 4.625..  Test Accuracy: 0.217\n",
            "Epoch: 7/10..  Training Loss: 0.200..  Test Loss: 4.804..  Test Accuracy: 0.217\n",
            "Epoch: 7/10..  Training Loss: 0.189..  Test Loss: 4.782..  Test Accuracy: 0.217\n",
            "Epoch: 7/10..  Training Loss: 0.206..  Test Loss: 4.607..  Test Accuracy: 0.217\n",
            "Epoch: 7/10..  Training Loss: 0.199..  Test Loss: 4.814..  Test Accuracy: 0.217\n",
            "Epoch: 8/10..  Training Loss: 0.199..  Test Loss: 4.863..  Test Accuracy: 0.217\n",
            "Epoch: 8/10..  Training Loss: 0.196..  Test Loss: 4.747..  Test Accuracy: 0.217\n",
            "Epoch: 8/10..  Training Loss: 0.199..  Test Loss: 5.105..  Test Accuracy: 0.217\n",
            "Epoch: 9/10..  Training Loss: 0.207..  Test Loss: 4.584..  Test Accuracy: 0.217\n",
            "Epoch: 9/10..  Training Loss: 0.193..  Test Loss: 4.856..  Test Accuracy: 0.217\n",
            "Epoch: 9/10..  Training Loss: 0.197..  Test Loss: 4.626..  Test Accuracy: 0.217\n",
            "Epoch: 9/10..  Training Loss: 0.206..  Test Loss: 4.750..  Test Accuracy: 0.217\n",
            "Epoch: 10/10..  Training Loss: 0.199..  Test Loss: 4.567..  Test Accuracy: 0.217\n",
            "Epoch: 10/10..  Training Loss: 0.192..  Test Loss: 4.587..  Test Accuracy: 0.217\n",
            "Epoch: 10/10..  Training Loss: 0.203..  Test Loss: 4.912..  Test Accuracy: 0.217\n",
            "Epoch: 10/10..  Training Loss: 0.201..  Test Loss: 4.836..  Test Accuracy: 0.217\n",
            "Data Independent Epsilon: 1451.5129254649705\n",
            "Data Dependent Epsilon: 36.00428894059177\n",
            "\n",
            "\n",
            " Lr:  0.03\n",
            "Epoch: 1/10..  Training Loss: 0.312..  Test Loss: 4.748..  Test Accuracy: 0.217\n",
            "Epoch: 1/10..  Training Loss: 0.196..  Test Loss: 4.796..  Test Accuracy: 0.217\n",
            "Epoch: 1/10..  Training Loss: 0.209..  Test Loss: 4.524..  Test Accuracy: 0.217\n",
            "Epoch: 2/10..  Training Loss: 0.201..  Test Loss: 4.708..  Test Accuracy: 0.217\n",
            "Epoch: 2/10..  Training Loss: 0.189..  Test Loss: 4.943..  Test Accuracy: 0.217\n",
            "Epoch: 2/10..  Training Loss: 0.206..  Test Loss: 4.312..  Test Accuracy: 0.217\n",
            "Epoch: 2/10..  Training Loss: 0.199..  Test Loss: 4.610..  Test Accuracy: 0.217\n",
            "Epoch: 3/10..  Training Loss: 0.198..  Test Loss: 4.927..  Test Accuracy: 0.217\n",
            "Epoch: 3/10..  Training Loss: 0.196..  Test Loss: 4.534..  Test Accuracy: 0.217\n",
            "Epoch: 3/10..  Training Loss: 0.198..  Test Loss: 5.122..  Test Accuracy: 0.217\n",
            "Epoch: 4/10..  Training Loss: 0.205..  Test Loss: 4.464..  Test Accuracy: 0.217\n",
            "Epoch: 4/10..  Training Loss: 0.191..  Test Loss: 5.070..  Test Accuracy: 0.217\n",
            "Epoch: 4/10..  Training Loss: 0.198..  Test Loss: 4.293..  Test Accuracy: 0.217\n",
            "Epoch: 4/10..  Training Loss: 0.204..  Test Loss: 4.329..  Test Accuracy: 0.217\n",
            "Epoch: 5/10..  Training Loss: 0.198..  Test Loss: 4.826..  Test Accuracy: 0.217\n",
            "Epoch: 5/10..  Training Loss: 0.191..  Test Loss: 4.341..  Test Accuracy: 0.217\n",
            "Epoch: 5/10..  Training Loss: 0.201..  Test Loss: 4.643..  Test Accuracy: 0.217\n",
            "Epoch: 5/10..  Training Loss: 0.200..  Test Loss: 4.203..  Test Accuracy: 0.217\n",
            "Epoch: 6/10..  Training Loss: 0.194..  Test Loss: 5.058..  Test Accuracy: 0.217\n",
            "Epoch: 6/10..  Training Loss: 0.192..  Test Loss: 4.882..  Test Accuracy: 0.217\n",
            "Epoch: 6/10..  Training Loss: 0.205..  Test Loss: 4.582..  Test Accuracy: 0.217\n",
            "Epoch: 7/10..  Training Loss: 0.198..  Test Loss: 4.845..  Test Accuracy: 0.217\n",
            "Epoch: 7/10..  Training Loss: 0.188..  Test Loss: 4.461..  Test Accuracy: 0.217\n",
            "Epoch: 7/10..  Training Loss: 0.212..  Test Loss: 5.034..  Test Accuracy: 0.217\n",
            "Epoch: 7/10..  Training Loss: 0.203..  Test Loss: 4.385..  Test Accuracy: 0.217\n",
            "Epoch: 8/10..  Training Loss: 0.198..  Test Loss: 4.615..  Test Accuracy: 0.217\n",
            "Epoch: 8/10..  Training Loss: 0.196..  Test Loss: 4.297..  Test Accuracy: 0.217\n",
            "Epoch: 8/10..  Training Loss: 0.196..  Test Loss: 4.768..  Test Accuracy: 0.217\n",
            "Epoch: 9/10..  Training Loss: 0.204..  Test Loss: 4.088..  Test Accuracy: 0.217\n",
            "Epoch: 9/10..  Training Loss: 0.191..  Test Loss: 4.673..  Test Accuracy: 0.217\n",
            "Epoch: 9/10..  Training Loss: 0.196..  Test Loss: 4.544..  Test Accuracy: 0.217\n",
            "Epoch: 9/10..  Training Loss: 0.203..  Test Loss: 4.216..  Test Accuracy: 0.217\n",
            "Epoch: 10/10..  Training Loss: 0.198..  Test Loss: 4.392..  Test Accuracy: 0.217\n",
            "Epoch: 10/10..  Training Loss: 0.191..  Test Loss: 4.242..  Test Accuracy: 0.217\n",
            "Epoch: 10/10..  Training Loss: 0.200..  Test Loss: 4.317..  Test Accuracy: 0.217\n",
            "Epoch: 10/10..  Training Loss: 0.198..  Test Loss: 4.247..  Test Accuracy: 0.217\n",
            "Data Independent Epsilon: 1451.5129254649705\n",
            "Data Dependent Epsilon: 36.00428894059177\n",
            "\n",
            "\n",
            " Lr:  0.003\n",
            "Epoch: 1/10..  Training Loss: 0.293..  Test Loss: 4.606..  Test Accuracy: 0.217\n",
            "Epoch: 1/10..  Training Loss: 0.218..  Test Loss: 5.880..  Test Accuracy: 0.217\n",
            "Epoch: 1/10..  Training Loss: 0.220..  Test Loss: 5.999..  Test Accuracy: 0.217\n",
            "Epoch: 2/10..  Training Loss: 0.209..  Test Loss: 5.910..  Test Accuracy: 0.217\n",
            "Epoch: 2/10..  Training Loss: 0.181..  Test Loss: 7.036..  Test Accuracy: 0.217\n",
            "Epoch: 2/10..  Training Loss: 0.183..  Test Loss: 7.257..  Test Accuracy: 0.218\n",
            "Epoch: 2/10..  Training Loss: 0.165..  Test Loss: 6.887..  Test Accuracy: 0.254\n",
            "Epoch: 3/10..  Training Loss: 0.166..  Test Loss: 7.311..  Test Accuracy: 0.253\n",
            "Epoch: 3/10..  Training Loss: 0.154..  Test Loss: 7.079..  Test Accuracy: 0.262\n",
            "Epoch: 3/10..  Training Loss: 0.143..  Test Loss: 9.319..  Test Accuracy: 0.277\n",
            "Epoch: 4/10..  Training Loss: 0.159..  Test Loss: 6.534..  Test Accuracy: 0.289\n",
            "Epoch: 4/10..  Training Loss: 0.135..  Test Loss: 9.473..  Test Accuracy: 0.292\n",
            "Epoch: 4/10..  Training Loss: 0.132..  Test Loss: 8.388..  Test Accuracy: 0.289\n",
            "Epoch: 4/10..  Training Loss: 0.137..  Test Loss: 6.913..  Test Accuracy: 0.295\n",
            "Epoch: 5/10..  Training Loss: 0.134..  Test Loss: 7.168..  Test Accuracy: 0.304\n",
            "Epoch: 5/10..  Training Loss: 0.122..  Test Loss: 7.094..  Test Accuracy: 0.321\n",
            "Epoch: 5/10..  Training Loss: 0.127..  Test Loss: 8.683..  Test Accuracy: 0.311\n",
            "Epoch: 5/10..  Training Loss: 0.127..  Test Loss: 7.669..  Test Accuracy: 0.300\n",
            "Epoch: 6/10..  Training Loss: 0.125..  Test Loss: 7.956..  Test Accuracy: 0.311\n",
            "Epoch: 6/10..  Training Loss: 0.121..  Test Loss: 8.905..  Test Accuracy: 0.295\n",
            "Epoch: 6/10..  Training Loss: 0.123..  Test Loss: 9.150..  Test Accuracy: 0.320\n",
            "Epoch: 7/10..  Training Loss: 0.124..  Test Loss: 7.050..  Test Accuracy: 0.312\n",
            "Epoch: 7/10..  Training Loss: 0.113..  Test Loss: 9.643..  Test Accuracy: 0.309\n",
            "Epoch: 7/10..  Training Loss: 0.121..  Test Loss: 9.787..  Test Accuracy: 0.324\n",
            "Epoch: 7/10..  Training Loss: 0.117..  Test Loss: 9.203..  Test Accuracy: 0.311\n",
            "Epoch: 8/10..  Training Loss: 0.120..  Test Loss: 10.479..  Test Accuracy: 0.305\n",
            "Epoch: 8/10..  Training Loss: 0.109..  Test Loss: 10.519..  Test Accuracy: 0.321\n",
            "Epoch: 8/10..  Training Loss: 0.110..  Test Loss: 11.504..  Test Accuracy: 0.306\n",
            "Epoch: 9/10..  Training Loss: 0.120..  Test Loss: 8.381..  Test Accuracy: 0.321\n",
            "Epoch: 9/10..  Training Loss: 0.114..  Test Loss: 10.934..  Test Accuracy: 0.316\n",
            "Epoch: 9/10..  Training Loss: 0.112..  Test Loss: 10.789..  Test Accuracy: 0.325\n",
            "Epoch: 9/10..  Training Loss: 0.111..  Test Loss: 8.934..  Test Accuracy: 0.325\n",
            "Epoch: 10/10..  Training Loss: 0.117..  Test Loss: 11.019..  Test Accuracy: 0.306\n",
            "Epoch: 10/10..  Training Loss: 0.105..  Test Loss: 11.030..  Test Accuracy: 0.321\n",
            "Epoch: 10/10..  Training Loss: 0.110..  Test Loss: 11.738..  Test Accuracy: 0.323\n",
            "Epoch: 10/10..  Training Loss: 0.111..  Test Loss: 10.715..  Test Accuracy: 0.316\n",
            "Data Independent Epsilon: 1451.5129254649705\n",
            "Data Dependent Epsilon: 36.00428894059177\n",
            "\n",
            "\n",
            " Lr:  0.0003\n",
            "Epoch: 1/10..  Training Loss: 0.458..  Test Loss: 4.248..  Test Accuracy: 0.217\n",
            "Epoch: 1/10..  Training Loss: 0.259..  Test Loss: 4.492..  Test Accuracy: 0.217\n",
            "Epoch: 1/10..  Training Loss: 0.253..  Test Loss: 4.704..  Test Accuracy: 0.217\n",
            "Epoch: 2/10..  Training Loss: 0.237..  Test Loss: 4.653..  Test Accuracy: 0.217\n",
            "Epoch: 2/10..  Training Loss: 0.219..  Test Loss: 5.098..  Test Accuracy: 0.217\n",
            "Epoch: 2/10..  Training Loss: 0.229..  Test Loss: 4.789..  Test Accuracy: 0.217\n",
            "Epoch: 2/10..  Training Loss: 0.222..  Test Loss: 5.301..  Test Accuracy: 0.217\n",
            "Epoch: 3/10..  Training Loss: 0.216..  Test Loss: 4.929..  Test Accuracy: 0.217\n",
            "Epoch: 3/10..  Training Loss: 0.210..  Test Loss: 4.999..  Test Accuracy: 0.217\n",
            "Epoch: 3/10..  Training Loss: 0.210..  Test Loss: 5.357..  Test Accuracy: 0.217\n",
            "Epoch: 4/10..  Training Loss: 0.216..  Test Loss: 5.008..  Test Accuracy: 0.217\n",
            "Epoch: 4/10..  Training Loss: 0.199..  Test Loss: 5.312..  Test Accuracy: 0.217\n",
            "Epoch: 4/10..  Training Loss: 0.203..  Test Loss: 5.069..  Test Accuracy: 0.217\n",
            "Epoch: 4/10..  Training Loss: 0.209..  Test Loss: 5.233..  Test Accuracy: 0.217\n",
            "Epoch: 5/10..  Training Loss: 0.201..  Test Loss: 4.992..  Test Accuracy: 0.217\n",
            "Epoch: 5/10..  Training Loss: 0.191..  Test Loss: 4.877..  Test Accuracy: 0.217\n",
            "Epoch: 5/10..  Training Loss: 0.193..  Test Loss: 5.266..  Test Accuracy: 0.217\n",
            "Epoch: 5/10..  Training Loss: 0.186..  Test Loss: 5.065..  Test Accuracy: 0.220\n",
            "Epoch: 6/10..  Training Loss: 0.175..  Test Loss: 5.043..  Test Accuracy: 0.232\n",
            "Epoch: 6/10..  Training Loss: 0.166..  Test Loss: 5.209..  Test Accuracy: 0.235\n",
            "Epoch: 6/10..  Training Loss: 0.167..  Test Loss: 5.224..  Test Accuracy: 0.249\n",
            "Epoch: 7/10..  Training Loss: 0.157..  Test Loss: 5.138..  Test Accuracy: 0.253\n",
            "Epoch: 7/10..  Training Loss: 0.139..  Test Loss: 5.740..  Test Accuracy: 0.250\n",
            "Epoch: 7/10..  Training Loss: 0.151..  Test Loss: 5.362..  Test Accuracy: 0.279\n",
            "Epoch: 7/10..  Training Loss: 0.140..  Test Loss: 5.624..  Test Accuracy: 0.264\n",
            "Epoch: 8/10..  Training Loss: 0.144..  Test Loss: 5.639..  Test Accuracy: 0.278\n",
            "Epoch: 8/10..  Training Loss: 0.129..  Test Loss: 5.836..  Test Accuracy: 0.280\n",
            "Epoch: 8/10..  Training Loss: 0.128..  Test Loss: 6.369..  Test Accuracy: 0.293\n",
            "Epoch: 9/10..  Training Loss: 0.137..  Test Loss: 5.283..  Test Accuracy: 0.294\n",
            "Epoch: 9/10..  Training Loss: 0.123..  Test Loss: 6.461..  Test Accuracy: 0.287\n",
            "Epoch: 9/10..  Training Loss: 0.125..  Test Loss: 5.853..  Test Accuracy: 0.301\n",
            "Epoch: 9/10..  Training Loss: 0.126..  Test Loss: 5.871..  Test Accuracy: 0.304\n",
            "Epoch: 10/10..  Training Loss: 0.123..  Test Loss: 6.091..  Test Accuracy: 0.297\n",
            "Epoch: 10/10..  Training Loss: 0.115..  Test Loss: 6.094..  Test Accuracy: 0.309\n",
            "Epoch: 10/10..  Training Loss: 0.116..  Test Loss: 6.701..  Test Accuracy: 0.301\n",
            "Epoch: 10/10..  Training Loss: 0.122..  Test Loss: 6.119..  Test Accuracy: 0.301\n",
            "Data Independent Epsilon: 1451.5129254649705\n",
            "Data Dependent Epsilon: 36.00428894059177\n",
            "\n",
            "\n",
            " Lr:  3e-05\n",
            "Epoch: 1/10..  Training Loss: 0.635..  Test Loss: 2.291..  Test Accuracy: 0.081\n",
            "Epoch: 1/10..  Training Loss: 0.608..  Test Loss: 2.265..  Test Accuracy: 0.217\n",
            "Epoch: 1/10..  Training Loss: 0.530..  Test Loss: 2.250..  Test Accuracy: 0.217\n",
            "Epoch: 2/10..  Training Loss: 0.402..  Test Loss: 2.530..  Test Accuracy: 0.217\n",
            "Epoch: 2/10..  Training Loss: 0.322..  Test Loss: 2.984..  Test Accuracy: 0.217\n",
            "Epoch: 2/10..  Training Loss: 0.299..  Test Loss: 3.286..  Test Accuracy: 0.217\n",
            "Epoch: 2/10..  Training Loss: 0.280..  Test Loss: 3.537..  Test Accuracy: 0.217\n",
            "Epoch: 3/10..  Training Loss: 0.267..  Test Loss: 3.802..  Test Accuracy: 0.217\n",
            "Epoch: 3/10..  Training Loss: 0.259..  Test Loss: 3.998..  Test Accuracy: 0.217\n",
            "Epoch: 3/10..  Training Loss: 0.263..  Test Loss: 4.016..  Test Accuracy: 0.217\n",
            "Epoch: 4/10..  Training Loss: 0.260..  Test Loss: 4.112..  Test Accuracy: 0.217\n",
            "Epoch: 4/10..  Training Loss: 0.254..  Test Loss: 4.226..  Test Accuracy: 0.217\n",
            "Epoch: 4/10..  Training Loss: 0.256..  Test Loss: 4.234..  Test Accuracy: 0.217\n",
            "Epoch: 4/10..  Training Loss: 0.265..  Test Loss: 4.187..  Test Accuracy: 0.217\n",
            "Epoch: 5/10..  Training Loss: 0.255..  Test Loss: 4.259..  Test Accuracy: 0.217\n",
            "Epoch: 5/10..  Training Loss: 0.240..  Test Loss: 4.385..  Test Accuracy: 0.217\n",
            "Epoch: 5/10..  Training Loss: 0.249..  Test Loss: 4.341..  Test Accuracy: 0.217\n",
            "Epoch: 5/10..  Training Loss: 0.248..  Test Loss: 4.409..  Test Accuracy: 0.217\n",
            "Epoch: 6/10..  Training Loss: 0.245..  Test Loss: 4.484..  Test Accuracy: 0.217\n",
            "Epoch: 6/10..  Training Loss: 0.240..  Test Loss: 4.533..  Test Accuracy: 0.217\n",
            "Epoch: 6/10..  Training Loss: 0.255..  Test Loss: 4.407..  Test Accuracy: 0.217\n",
            "Epoch: 7/10..  Training Loss: 0.243..  Test Loss: 4.505..  Test Accuracy: 0.217\n",
            "Epoch: 7/10..  Training Loss: 0.230..  Test Loss: 4.588..  Test Accuracy: 0.217\n",
            "Epoch: 7/10..  Training Loss: 0.249..  Test Loss: 4.547..  Test Accuracy: 0.217\n",
            "Epoch: 7/10..  Training Loss: 0.238..  Test Loss: 4.560..  Test Accuracy: 0.217\n",
            "Epoch: 8/10..  Training Loss: 0.239..  Test Loss: 4.619..  Test Accuracy: 0.217\n",
            "Epoch: 8/10..  Training Loss: 0.239..  Test Loss: 4.647..  Test Accuracy: 0.217\n",
            "Epoch: 8/10..  Training Loss: 0.236..  Test Loss: 4.594..  Test Accuracy: 0.217\n",
            "Epoch: 9/10..  Training Loss: 0.242..  Test Loss: 4.664..  Test Accuracy: 0.217\n",
            "Epoch: 9/10..  Training Loss: 0.230..  Test Loss: 4.723..  Test Accuracy: 0.217\n",
            "Epoch: 9/10..  Training Loss: 0.231..  Test Loss: 4.714..  Test Accuracy: 0.217\n",
            "Epoch: 9/10..  Training Loss: 0.241..  Test Loss: 4.690..  Test Accuracy: 0.217\n",
            "Epoch: 10/10..  Training Loss: 0.231..  Test Loss: 4.793..  Test Accuracy: 0.217\n",
            "Epoch: 10/10..  Training Loss: 0.227..  Test Loss: 4.875..  Test Accuracy: 0.217\n",
            "Epoch: 10/10..  Training Loss: 0.237..  Test Loss: 4.765..  Test Accuracy: 0.217\n",
            "Epoch: 10/10..  Training Loss: 0.232..  Test Loss: 4.828..  Test Accuracy: 0.217\n",
            "Data Independent Epsilon: 1451.5129254649705\n",
            "Data Dependent Epsilon: 36.00428894059177\n"
          ]
        }
      ],
      "source": [
        "lr_list = [0.3, 0.03, 0.003, 0.0003, 0.00003]\n",
        "\n",
        "for i in range(len(lr_list)):\n",
        "  print(\"\\n\\n Lr: \", lr_list[i])\n",
        "  student_model = Classifier()\n",
        "  criterion = nn.NLLLoss()\n",
        "  optimizer = optim.Adam(student_model.parameters(), lr=lr_list[i])\n",
        "  epochs = 10\n",
        "  steps = 0\n",
        "  running_loss = 0\n",
        "  for e in range(epochs):\n",
        "      student_model.train()\n",
        "      train_loader = student_loader(student_train_loader, student_labels)\n",
        "      for images, labels in train_loader:\n",
        "          steps += 1\n",
        "          \n",
        "          optimizer.zero_grad()\n",
        "          output = student_model.forward(images)\n",
        "          loss = criterion(output, labels)\n",
        "          loss.backward()\n",
        "          optimizer.step()\n",
        "\n",
        "          running_loss += loss.item()\n",
        "          \n",
        "          if steps % 50 == 0:\n",
        "              test_loss = 0\n",
        "              accuracy = 0\n",
        "              student_model.eval()\n",
        "              with torch.no_grad():\n",
        "                  for images, labels in student_test_loader:\n",
        "                      log_ps = student_model(images)\n",
        "                      test_loss += criterion(log_ps, labels).item()\n",
        "                      \n",
        "                      # Accuracy\n",
        "                      ps = torch.exp(log_ps)\n",
        "                      top_p, top_class = ps.topk(1, dim=1)\n",
        "                      equals = top_class == labels.view(*top_class.shape)\n",
        "                      accuracy += torch.mean(equals.type(torch.FloatTensor))\n",
        "              student_model.train()\n",
        "              print(\"Epoch: {}/{}.. \".format(e+1, epochs),\n",
        "                    \"Training Loss: {:.3f}.. \".format(running_loss/len(student_train_loader)),\n",
        "                    \"Test Loss: {:.3f}.. \".format(test_loss/len(student_test_loader)),\n",
        "                    \"Test Accuracy: {:.3f}\".format(accuracy/len(student_test_loader)))\n",
        "              running_loss = 0\n",
        "\n",
        "\n",
        "  data_dep_eps, data_ind_eps = pate.perform_analysis(teacher_preds=preds, indices=student_labels, noise_eps=epsilon, delta=1e-5)\n",
        "  print(\"Data Independent Epsilon:\", data_ind_eps)\n",
        "  print(\"Data Dependent Epsilon:\", data_dep_eps)"
      ]
    },
    {
      "cell_type": "markdown",
      "metadata": {
        "id": "JfMONCzJoHJ2"
      },
      "source": [
        "## Step 5: Let's Perform PATE Analysis on the student labels generated by the Aggregated Teacher"
      ]
    },
    {
      "cell_type": "code",
      "source": [
        "# pip install syft==0.2.9"
      ],
      "metadata": {
        "id": "YeeWYnYgNEF4"
      },
      "execution_count": null,
      "outputs": []
    },
    {
      "cell_type": "markdown",
      "metadata": {
        "id": "x3bHlQd5oHJ2"
      },
      "source": [
        "The pate.perform_analysis method returns two values - a data independent epsilon and a data dependent epsilon. The data dependent epsilon is the epsilon value obtained by looking at how much the teachers agree with each other. In a way, the PATE analysis rewards the user for building teacher models which agree with each other because it becomes harder to leak information and track individual information."
      ]
    },
    {
      "cell_type": "code",
      "execution_count": null,
      "metadata": {
        "id": "WVFfjTPYoHJ3"
      },
      "outputs": [],
      "source": [
        ""
      ]
    },
    {
      "cell_type": "code",
      "execution_count": null,
      "metadata": {
        "id": "SSBSFxOYoHJ3"
      },
      "outputs": [],
      "source": [
        ""
      ]
    }
  ],
  "metadata": {
    "kernelspec": {
      "display_name": "Python 3",
      "language": "python",
      "name": "python3"
    },
    "language_info": {
      "codemirror_mode": {
        "name": "ipython",
        "version": 3
      },
      "file_extension": ".py",
      "mimetype": "text/x-python",
      "name": "python",
      "nbconvert_exporter": "python",
      "pygments_lexer": "ipython3",
      "version": "3.7.3"
    },
    "colab": {
      "name": "PATE_SVHN_D1.ipynb",
      "provenance": [],
      "collapsed_sections": []
    }
  },
  "nbformat": 4,
  "nbformat_minor": 0
}